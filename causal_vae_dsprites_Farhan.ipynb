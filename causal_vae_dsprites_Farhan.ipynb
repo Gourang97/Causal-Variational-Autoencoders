{
  "nbformat": 4,
  "nbformat_minor": 0,
  "metadata": {
    "kernelspec": {
      "name": "python3",
      "display_name": "Python 3"
    },
    "language_info": {
      "codemirror_mode": {
        "name": "ipython",
        "version": 3
      },
      "file_extension": ".py",
      "mimetype": "text/x-python",
      "name": "python",
      "nbconvert_exporter": "python",
      "pygments_lexer": "ipython3",
      "version": "3.6.8"
    },
    "colab": {
      "name": "causal_vae_dsprites_Farhan.ipynb",
      "provenance": [],
      "collapsed_sections": [],
      "machine_shape": "hm"
    },
    "accelerator": "GPU",
    "widgets": {
      "application/vnd.jupyter.widget-state+json": {
        "52fc6dd10d284a4fac7e7bce260ec806": {
          "model_module": "@jupyter-widgets/controls",
          "model_name": "VBoxModel",
          "state": {
            "_view_name": "VBoxView",
            "_dom_classes": [
              "widget-interact"
            ],
            "_model_name": "VBoxModel",
            "_view_module": "@jupyter-widgets/controls",
            "_model_module_version": "1.5.0",
            "_view_count": null,
            "_view_module_version": "1.5.0",
            "box_style": "",
            "layout": "IPY_MODEL_597da10eb11345059cef3f154adc718f",
            "_model_module": "@jupyter-widgets/controls",
            "children": [
              "IPY_MODEL_1ef4de9336ac454c9a0a9e1ce2abde1d",
              "IPY_MODEL_f87bf92fd9c6418bb7ea15f5aed93233"
            ]
          }
        },
        "597da10eb11345059cef3f154adc718f": {
          "model_module": "@jupyter-widgets/base",
          "model_name": "LayoutModel",
          "state": {
            "_view_name": "LayoutView",
            "grid_template_rows": null,
            "right": null,
            "justify_content": null,
            "_view_module": "@jupyter-widgets/base",
            "overflow": null,
            "_model_module_version": "1.2.0",
            "_view_count": null,
            "flex_flow": null,
            "width": null,
            "min_width": null,
            "border": null,
            "align_items": null,
            "bottom": null,
            "_model_module": "@jupyter-widgets/base",
            "top": null,
            "grid_column": null,
            "overflow_y": null,
            "overflow_x": null,
            "grid_auto_flow": null,
            "grid_area": null,
            "grid_template_columns": null,
            "flex": null,
            "_model_name": "LayoutModel",
            "justify_items": null,
            "grid_row": null,
            "max_height": null,
            "align_content": null,
            "visibility": null,
            "align_self": null,
            "height": null,
            "min_height": null,
            "padding": null,
            "grid_auto_rows": null,
            "grid_gap": null,
            "max_width": null,
            "order": null,
            "_view_module_version": "1.2.0",
            "grid_template_areas": null,
            "object_position": null,
            "object_fit": null,
            "grid_auto_columns": null,
            "margin": null,
            "display": null,
            "left": null
          }
        },
        "1ef4de9336ac454c9a0a9e1ce2abde1d": {
          "model_module": "@jupyter-widgets/controls",
          "model_name": "IntSliderModel",
          "state": {
            "_view_name": "IntSliderView",
            "style": "IPY_MODEL_cf144bd50f0b4937bd0a778890f30114",
            "_dom_classes": [],
            "description": "x",
            "step": 1,
            "_model_name": "IntSliderModel",
            "orientation": "horizontal",
            "max": 255,
            "_view_module": "@jupyter-widgets/controls",
            "_model_module_version": "1.5.0",
            "value": 0,
            "_view_count": null,
            "disabled": false,
            "_view_module_version": "1.5.0",
            "min": 0,
            "continuous_update": true,
            "readout_format": "d",
            "description_tooltip": null,
            "readout": true,
            "_model_module": "@jupyter-widgets/controls",
            "layout": "IPY_MODEL_80a94e48cfae45d5b4a0998cec3f0b33"
          }
        },
        "f87bf92fd9c6418bb7ea15f5aed93233": {
          "model_module": "@jupyter-widgets/output",
          "model_name": "OutputModel",
          "state": {
            "_view_name": "OutputView",
            "msg_id": "",
            "_dom_classes": [],
            "_model_name": "OutputModel",
            "outputs": [
              {
                "output_type": "display_data",
                "metadata": {
                  "tags": [],
                  "needs_background": "light"
                },
                "image/png": "iVBORw0KGgoAAAANSUhEUgAAAV0AAACmCAYAAAB5qlzZAAAABHNCSVQICAgIfAhkiAAAAAlwSFlzAAALEgAACxIB0t1+/AAAADh0RVh0U29mdHdhcmUAbWF0cGxvdGxpYiB2ZXJzaW9uMy4yLjEsIGh0dHA6Ly9tYXRwbG90bGliLm9yZy+j8jraAAADU0lEQVR4nO3dwW7TQABFUYz6/79sFlVFVYXEEfa1Z3zOFtRmMbp+Yyq6rOv6C4DG77M/AMCdiC5ASHQBQqILEBJdgJDoAoQ+nv3hsix+noxDreu6nPF9nW2O9q+zbekChEQXICS6ACHRBQiJLkBIdAFCogsQEl2AkOgChEQXICS6ACHRBQiJLkBIdAFCogsQEl2AkOgChEQXICS6ACHRBQiJLkBIdAFCogsQEl2AkOgChEQXICS6ACHRBQiJLkBIdAFCogsQEl2AkOgChEQXICS6ACHRBQiJLkBIdAFCogsQEl2AkOgChEQXICS6ACHRBQiJLkBIdAFCogsQEl2AkOgChEQXICS6ACHRBQiJLkBIdAFCogsQEl2AkOgChEQXICS6ACHRBQiJLkBIdAFCogsQEl2AkOgChEQXICS6ACHRBQiJLkBIdAFCogsQEl2AkOgChEQXICS6ACHRBQiJLkBIdAFCogsQEl2AkOgChEQXICS6ACHRBQh9nP0BeG1d101/b1mWgz8J7OuOZ9vSBQhZuhex9Yn/zteYaR0wlj3O87OvN/LZtnQBQqILEPJ64QR7X722fJ+Rr2OMw9l+zdIFCFm6B6ue/K98fY7RVgHXdZWzPRpLFyAkugAhrxcO4urFrK52tkd7dWbpAoQs3R1dbQHAXpzt/Vi6ACFLdwdWALNytvdn6QKERBcg5PXCfxjp6jXKj9NwDc72cSxdgJCl+6aRFgC8w9luWLoAIdEFCHm9sJGrF1zHaP949p2lCxCydCc28hqg4xbXsnQBQpbuCyOuAAuXLZztc1i6ACHRBQh5vTCRGa5eMDtLFyBk6QKXNOvNzdIFCIkuQMjrhUHNevWC2c+2pQsQsnQHMvsC4L7udLYtXYCQpTuAO60A7uWOZ9vSBQiJLkDI64WLueN1i3twtj9ZugAhS/eFr6fzEf/hsyc/ZzrybD/6PnyydAFClu5Gz57Wj5aCpzujeHRWf55p53k/li5ASHQBQl4v7MDVi9k408exdAFCogsQEl2AkOgChEQXICS6ACHRBQiJLkBIdAFCogsQEl2AkOgChEQXICS6ACHRBQiJLkBIdAFCogsQWo7+nfcA/GXpAoREFyAkugAh0QUIiS5ASHQBQn8AwmNvd0dTilAAAAAASUVORK5CYII=\n",
                "text/plain": "<Figure size 432x288 with 2 Axes>"
              }
            ],
            "_view_module": "@jupyter-widgets/output",
            "_model_module_version": "1.0.0",
            "_view_count": null,
            "_view_module_version": "1.0.0",
            "layout": "IPY_MODEL_a10c7615facb4e5681d557f5c98a4023",
            "_model_module": "@jupyter-widgets/output"
          }
        },
        "cf144bd50f0b4937bd0a778890f30114": {
          "model_module": "@jupyter-widgets/controls",
          "model_name": "SliderStyleModel",
          "state": {
            "_view_name": "StyleView",
            "handle_color": null,
            "_model_name": "SliderStyleModel",
            "description_width": "",
            "_view_module": "@jupyter-widgets/base",
            "_model_module_version": "1.5.0",
            "_view_count": null,
            "_view_module_version": "1.2.0",
            "_model_module": "@jupyter-widgets/controls"
          }
        },
        "80a94e48cfae45d5b4a0998cec3f0b33": {
          "model_module": "@jupyter-widgets/base",
          "model_name": "LayoutModel",
          "state": {
            "_view_name": "LayoutView",
            "grid_template_rows": null,
            "right": null,
            "justify_content": null,
            "_view_module": "@jupyter-widgets/base",
            "overflow": null,
            "_model_module_version": "1.2.0",
            "_view_count": null,
            "flex_flow": null,
            "width": null,
            "min_width": null,
            "border": null,
            "align_items": null,
            "bottom": null,
            "_model_module": "@jupyter-widgets/base",
            "top": null,
            "grid_column": null,
            "overflow_y": null,
            "overflow_x": null,
            "grid_auto_flow": null,
            "grid_area": null,
            "grid_template_columns": null,
            "flex": null,
            "_model_name": "LayoutModel",
            "justify_items": null,
            "grid_row": null,
            "max_height": null,
            "align_content": null,
            "visibility": null,
            "align_self": null,
            "height": null,
            "min_height": null,
            "padding": null,
            "grid_auto_rows": null,
            "grid_gap": null,
            "max_width": null,
            "order": null,
            "_view_module_version": "1.2.0",
            "grid_template_areas": null,
            "object_position": null,
            "object_fit": null,
            "grid_auto_columns": null,
            "margin": null,
            "display": null,
            "left": null
          }
        },
        "a10c7615facb4e5681d557f5c98a4023": {
          "model_module": "@jupyter-widgets/base",
          "model_name": "LayoutModel",
          "state": {
            "_view_name": "LayoutView",
            "grid_template_rows": null,
            "right": null,
            "justify_content": null,
            "_view_module": "@jupyter-widgets/base",
            "overflow": null,
            "_model_module_version": "1.2.0",
            "_view_count": null,
            "flex_flow": null,
            "width": null,
            "min_width": null,
            "border": null,
            "align_items": null,
            "bottom": null,
            "_model_module": "@jupyter-widgets/base",
            "top": null,
            "grid_column": null,
            "overflow_y": null,
            "overflow_x": null,
            "grid_auto_flow": null,
            "grid_area": null,
            "grid_template_columns": null,
            "flex": null,
            "_model_name": "LayoutModel",
            "justify_items": null,
            "grid_row": null,
            "max_height": null,
            "align_content": null,
            "visibility": null,
            "align_self": null,
            "height": null,
            "min_height": null,
            "padding": null,
            "grid_auto_rows": null,
            "grid_gap": null,
            "max_width": null,
            "order": null,
            "_view_module_version": "1.2.0",
            "grid_template_areas": null,
            "object_position": null,
            "object_fit": null,
            "grid_auto_columns": null,
            "margin": null,
            "display": null,
            "left": null
          }
        },
        "66c00f0196c642dfb7fbda31bbe2832b": {
          "model_module": "@jupyter-widgets/controls",
          "model_name": "VBoxModel",
          "state": {
            "_view_name": "VBoxView",
            "_dom_classes": [
              "widget-interact"
            ],
            "_model_name": "VBoxModel",
            "_view_module": "@jupyter-widgets/controls",
            "_model_module_version": "1.5.0",
            "_view_count": null,
            "_view_module_version": "1.5.0",
            "box_style": "",
            "layout": "IPY_MODEL_f84e445f415d4688be3e1f6c21b9cdb1",
            "_model_module": "@jupyter-widgets/controls",
            "children": [
              "IPY_MODEL_252ed65361544f22bcaddf826d7ba82e",
              "IPY_MODEL_90ea801e02e64820b575ee14165f9d7b",
              "IPY_MODEL_33b0fe2269f546a6adf8686222315b0a",
              "IPY_MODEL_85787f217efc48d4ae4e93d025d2342c",
              "IPY_MODEL_f02edbfa24594beabdadd40188f013a5",
              "IPY_MODEL_a50cd6dbdcc0443489578f3228330e54"
            ]
          }
        },
        "f84e445f415d4688be3e1f6c21b9cdb1": {
          "model_module": "@jupyter-widgets/base",
          "model_name": "LayoutModel",
          "state": {
            "_view_name": "LayoutView",
            "grid_template_rows": null,
            "right": null,
            "justify_content": null,
            "_view_module": "@jupyter-widgets/base",
            "overflow": null,
            "_model_module_version": "1.2.0",
            "_view_count": null,
            "flex_flow": null,
            "width": null,
            "min_width": null,
            "border": null,
            "align_items": null,
            "bottom": null,
            "_model_module": "@jupyter-widgets/base",
            "top": null,
            "grid_column": null,
            "overflow_y": null,
            "overflow_x": null,
            "grid_auto_flow": null,
            "grid_area": null,
            "grid_template_columns": null,
            "flex": null,
            "_model_name": "LayoutModel",
            "justify_items": null,
            "grid_row": null,
            "max_height": null,
            "align_content": null,
            "visibility": null,
            "align_self": null,
            "height": null,
            "min_height": null,
            "padding": null,
            "grid_auto_rows": null,
            "grid_gap": null,
            "max_width": null,
            "order": null,
            "_view_module_version": "1.2.0",
            "grid_template_areas": null,
            "object_position": null,
            "object_fit": null,
            "grid_auto_columns": null,
            "margin": null,
            "display": null,
            "left": null
          }
        },
        "252ed65361544f22bcaddf826d7ba82e": {
          "model_module": "@jupyter-widgets/controls",
          "model_name": "IntSliderModel",
          "state": {
            "_view_name": "IntSliderView",
            "style": "IPY_MODEL_e468328db9d14c91a67a2ae17eb8302d",
            "_dom_classes": [],
            "description": "shape",
            "step": 1,
            "_model_name": "IntSliderModel",
            "orientation": "horizontal",
            "max": 2,
            "_view_module": "@jupyter-widgets/controls",
            "_model_module_version": "1.5.0",
            "value": 0,
            "_view_count": null,
            "disabled": false,
            "_view_module_version": "1.5.0",
            "min": 0,
            "continuous_update": true,
            "readout_format": "d",
            "description_tooltip": null,
            "readout": true,
            "_model_module": "@jupyter-widgets/controls",
            "layout": "IPY_MODEL_97a7789678654590877ab7e023a6772d"
          }
        },
        "90ea801e02e64820b575ee14165f9d7b": {
          "model_module": "@jupyter-widgets/controls",
          "model_name": "IntSliderModel",
          "state": {
            "_view_name": "IntSliderView",
            "style": "IPY_MODEL_5ba1675b8e0647229c36551d178252c9",
            "_dom_classes": [],
            "description": "scale",
            "step": 1,
            "_model_name": "IntSliderModel",
            "orientation": "horizontal",
            "max": 5,
            "_view_module": "@jupyter-widgets/controls",
            "_model_module_version": "1.5.0",
            "value": 0,
            "_view_count": null,
            "disabled": false,
            "_view_module_version": "1.5.0",
            "min": 0,
            "continuous_update": true,
            "readout_format": "d",
            "description_tooltip": null,
            "readout": true,
            "_model_module": "@jupyter-widgets/controls",
            "layout": "IPY_MODEL_44bf697df6944e1f986a7c9188a0eed1"
          }
        },
        "33b0fe2269f546a6adf8686222315b0a": {
          "model_module": "@jupyter-widgets/controls",
          "model_name": "IntSliderModel",
          "state": {
            "_view_name": "IntSliderView",
            "style": "IPY_MODEL_e2013696f78a4856a848d69c09d6cde8",
            "_dom_classes": [],
            "description": "orient",
            "step": 1,
            "_model_name": "IntSliderModel",
            "orientation": "horizontal",
            "max": 39,
            "_view_module": "@jupyter-widgets/controls",
            "_model_module_version": "1.5.0",
            "value": 0,
            "_view_count": null,
            "disabled": false,
            "_view_module_version": "1.5.0",
            "min": 0,
            "continuous_update": true,
            "readout_format": "d",
            "description_tooltip": null,
            "readout": true,
            "_model_module": "@jupyter-widgets/controls",
            "layout": "IPY_MODEL_43c64cfc5ecf4920a4c60b6cfe6fb0dc"
          }
        },
        "85787f217efc48d4ae4e93d025d2342c": {
          "model_module": "@jupyter-widgets/controls",
          "model_name": "IntSliderModel",
          "state": {
            "_view_name": "IntSliderView",
            "style": "IPY_MODEL_0b0cf9f8fe934dabb8be024083fa049c",
            "_dom_classes": [],
            "description": "posX",
            "step": 1,
            "_model_name": "IntSliderModel",
            "orientation": "horizontal",
            "max": 31,
            "_view_module": "@jupyter-widgets/controls",
            "_model_module_version": "1.5.0",
            "value": 0,
            "_view_count": null,
            "disabled": false,
            "_view_module_version": "1.5.0",
            "min": 0,
            "continuous_update": true,
            "readout_format": "d",
            "description_tooltip": null,
            "readout": true,
            "_model_module": "@jupyter-widgets/controls",
            "layout": "IPY_MODEL_bb3efd054e4a47068efdecd5a5feff39"
          }
        },
        "f02edbfa24594beabdadd40188f013a5": {
          "model_module": "@jupyter-widgets/controls",
          "model_name": "IntSliderModel",
          "state": {
            "_view_name": "IntSliderView",
            "style": "IPY_MODEL_9375fdf49b5347199ab7afb47a3c0cf4",
            "_dom_classes": [],
            "description": "posY",
            "step": 1,
            "_model_name": "IntSliderModel",
            "orientation": "horizontal",
            "max": 31,
            "_view_module": "@jupyter-widgets/controls",
            "_model_module_version": "1.5.0",
            "value": 0,
            "_view_count": null,
            "disabled": false,
            "_view_module_version": "1.5.0",
            "min": 0,
            "continuous_update": true,
            "readout_format": "d",
            "description_tooltip": null,
            "readout": true,
            "_model_module": "@jupyter-widgets/controls",
            "layout": "IPY_MODEL_7db46c7346e74d96b1ab4db724fa62d7"
          }
        },
        "a50cd6dbdcc0443489578f3228330e54": {
          "model_module": "@jupyter-widgets/output",
          "model_name": "OutputModel",
          "state": {
            "_view_name": "OutputView",
            "msg_id": "",
            "_dom_classes": [],
            "_model_name": "OutputModel",
            "outputs": [
              {
                "output_type": "display_data",
                "metadata": {
                  "tags": [],
                  "needs_background": "light"
                },
                "image/png": "iVBORw0KGgoAAAANSUhEUgAAAOcAAADnCAYAAADl9EEgAAAABHNCSVQICAgIfAhkiAAAAAlwSFlzAAALEgAACxIB0t1+/AAAADh0RVh0U29mdHdhcmUAbWF0cGxvdGxpYiB2ZXJzaW9uMy4yLjEsIGh0dHA6Ly9tYXRwbG90bGliLm9yZy+j8jraAAAC4klEQVR4nO3dMW4DMQwAQdO4/3+Z6VwdDKQItLFnSqlhsyCgRrO7D6DneXoA4J44IUqcECVOiBInRF3vLmfGUy78sd2du3ObE6LECVHihChxQpQ4IUqcECVOiBInRIkTosQJUeKEKHFClDghSpwQJU6IEidEiROixAlR4oQocUKUOCFKnBAlTogSJ0SJE6LECVHihChxQpQ4IUqcECVOiBInRIkTosQJUeKEKHFC1HV6gN/a3dMjvMzM6RH4YDYnRIkTosQJUeKEKHFClDghSpwQJU6IEidEiROixAlR4oQocUKUOCFKnBAlTogSJ0SJE6LECVHihChxQpQ4IUqcECVOiBInRIkTosQJUeKEKHFClDghSpwQJU6IEidEiROi/t23875651vYnBAlTogSJ0SJE6LECVHihChxQpQ4IUqcECVOiBInRIkTosQJUeKEKHFClDghSpwQJU6IEidEiROixAlR4oQocUKUOCFKnBAlTogSJ0SJE6LECVHihChxQpQ4IUqcECVOiBInRIkTosQJUeKEKHFClDghSpwQJU6IEidEiROixAlR4oQocUKUOCFKnBAlTogSJ0SJE6LECVHihChxQpQ4IUqcECVOiBInRIkTosQJUeKEKHFClDghSpwQJU6IEidEiROixAlR4oQocUKUOCFKnBAlTogSJ0SJE6LECVHihChxQpQ4IUqcECVOiBInRIkTosQJUeKEKHFClDghSpwQJU6IEidEiROixAlR4oQocUKUOCFKnBAlTogSJ0SJE6LECVHihChxQpQ4IUqcECVOiBInRIkTosQJUeKEKHFClDghSpwQJU6IEidEiROixAlR4oQocUKUOCFKnBAlTogSJ0SJE6LECVHihChxQpQ4IUqcECVOiBInRIkTosQJUeKEKHFClDghSpwQJU6IEidEiROixAlR4oQocUKUOCFKnBA1u3t6BuCGzQlR4oQocUKUOCFKnBAlToj6AZUlDtC8HnrcAAAAAElFTkSuQmCC\n",
                "text/plain": "<Figure size 432x288 with 1 Axes>"
              }
            ],
            "_view_module": "@jupyter-widgets/output",
            "_model_module_version": "1.0.0",
            "_view_count": null,
            "_view_module_version": "1.0.0",
            "layout": "IPY_MODEL_6768dea59b6748f6877a498d4bae9268",
            "_model_module": "@jupyter-widgets/output"
          }
        },
        "e468328db9d14c91a67a2ae17eb8302d": {
          "model_module": "@jupyter-widgets/controls",
          "model_name": "SliderStyleModel",
          "state": {
            "_view_name": "StyleView",
            "handle_color": null,
            "_model_name": "SliderStyleModel",
            "description_width": "",
            "_view_module": "@jupyter-widgets/base",
            "_model_module_version": "1.5.0",
            "_view_count": null,
            "_view_module_version": "1.2.0",
            "_model_module": "@jupyter-widgets/controls"
          }
        },
        "97a7789678654590877ab7e023a6772d": {
          "model_module": "@jupyter-widgets/base",
          "model_name": "LayoutModel",
          "state": {
            "_view_name": "LayoutView",
            "grid_template_rows": null,
            "right": null,
            "justify_content": null,
            "_view_module": "@jupyter-widgets/base",
            "overflow": null,
            "_model_module_version": "1.2.0",
            "_view_count": null,
            "flex_flow": null,
            "width": null,
            "min_width": null,
            "border": null,
            "align_items": null,
            "bottom": null,
            "_model_module": "@jupyter-widgets/base",
            "top": null,
            "grid_column": null,
            "overflow_y": null,
            "overflow_x": null,
            "grid_auto_flow": null,
            "grid_area": null,
            "grid_template_columns": null,
            "flex": null,
            "_model_name": "LayoutModel",
            "justify_items": null,
            "grid_row": null,
            "max_height": null,
            "align_content": null,
            "visibility": null,
            "align_self": null,
            "height": null,
            "min_height": null,
            "padding": null,
            "grid_auto_rows": null,
            "grid_gap": null,
            "max_width": null,
            "order": null,
            "_view_module_version": "1.2.0",
            "grid_template_areas": null,
            "object_position": null,
            "object_fit": null,
            "grid_auto_columns": null,
            "margin": null,
            "display": null,
            "left": null
          }
        },
        "5ba1675b8e0647229c36551d178252c9": {
          "model_module": "@jupyter-widgets/controls",
          "model_name": "SliderStyleModel",
          "state": {
            "_view_name": "StyleView",
            "handle_color": null,
            "_model_name": "SliderStyleModel",
            "description_width": "",
            "_view_module": "@jupyter-widgets/base",
            "_model_module_version": "1.5.0",
            "_view_count": null,
            "_view_module_version": "1.2.0",
            "_model_module": "@jupyter-widgets/controls"
          }
        },
        "44bf697df6944e1f986a7c9188a0eed1": {
          "model_module": "@jupyter-widgets/base",
          "model_name": "LayoutModel",
          "state": {
            "_view_name": "LayoutView",
            "grid_template_rows": null,
            "right": null,
            "justify_content": null,
            "_view_module": "@jupyter-widgets/base",
            "overflow": null,
            "_model_module_version": "1.2.0",
            "_view_count": null,
            "flex_flow": null,
            "width": null,
            "min_width": null,
            "border": null,
            "align_items": null,
            "bottom": null,
            "_model_module": "@jupyter-widgets/base",
            "top": null,
            "grid_column": null,
            "overflow_y": null,
            "overflow_x": null,
            "grid_auto_flow": null,
            "grid_area": null,
            "grid_template_columns": null,
            "flex": null,
            "_model_name": "LayoutModel",
            "justify_items": null,
            "grid_row": null,
            "max_height": null,
            "align_content": null,
            "visibility": null,
            "align_self": null,
            "height": null,
            "min_height": null,
            "padding": null,
            "grid_auto_rows": null,
            "grid_gap": null,
            "max_width": null,
            "order": null,
            "_view_module_version": "1.2.0",
            "grid_template_areas": null,
            "object_position": null,
            "object_fit": null,
            "grid_auto_columns": null,
            "margin": null,
            "display": null,
            "left": null
          }
        },
        "e2013696f78a4856a848d69c09d6cde8": {
          "model_module": "@jupyter-widgets/controls",
          "model_name": "SliderStyleModel",
          "state": {
            "_view_name": "StyleView",
            "handle_color": null,
            "_model_name": "SliderStyleModel",
            "description_width": "",
            "_view_module": "@jupyter-widgets/base",
            "_model_module_version": "1.5.0",
            "_view_count": null,
            "_view_module_version": "1.2.0",
            "_model_module": "@jupyter-widgets/controls"
          }
        },
        "43c64cfc5ecf4920a4c60b6cfe6fb0dc": {
          "model_module": "@jupyter-widgets/base",
          "model_name": "LayoutModel",
          "state": {
            "_view_name": "LayoutView",
            "grid_template_rows": null,
            "right": null,
            "justify_content": null,
            "_view_module": "@jupyter-widgets/base",
            "overflow": null,
            "_model_module_version": "1.2.0",
            "_view_count": null,
            "flex_flow": null,
            "width": null,
            "min_width": null,
            "border": null,
            "align_items": null,
            "bottom": null,
            "_model_module": "@jupyter-widgets/base",
            "top": null,
            "grid_column": null,
            "overflow_y": null,
            "overflow_x": null,
            "grid_auto_flow": null,
            "grid_area": null,
            "grid_template_columns": null,
            "flex": null,
            "_model_name": "LayoutModel",
            "justify_items": null,
            "grid_row": null,
            "max_height": null,
            "align_content": null,
            "visibility": null,
            "align_self": null,
            "height": null,
            "min_height": null,
            "padding": null,
            "grid_auto_rows": null,
            "grid_gap": null,
            "max_width": null,
            "order": null,
            "_view_module_version": "1.2.0",
            "grid_template_areas": null,
            "object_position": null,
            "object_fit": null,
            "grid_auto_columns": null,
            "margin": null,
            "display": null,
            "left": null
          }
        },
        "0b0cf9f8fe934dabb8be024083fa049c": {
          "model_module": "@jupyter-widgets/controls",
          "model_name": "SliderStyleModel",
          "state": {
            "_view_name": "StyleView",
            "handle_color": null,
            "_model_name": "SliderStyleModel",
            "description_width": "",
            "_view_module": "@jupyter-widgets/base",
            "_model_module_version": "1.5.0",
            "_view_count": null,
            "_view_module_version": "1.2.0",
            "_model_module": "@jupyter-widgets/controls"
          }
        },
        "bb3efd054e4a47068efdecd5a5feff39": {
          "model_module": "@jupyter-widgets/base",
          "model_name": "LayoutModel",
          "state": {
            "_view_name": "LayoutView",
            "grid_template_rows": null,
            "right": null,
            "justify_content": null,
            "_view_module": "@jupyter-widgets/base",
            "overflow": null,
            "_model_module_version": "1.2.0",
            "_view_count": null,
            "flex_flow": null,
            "width": null,
            "min_width": null,
            "border": null,
            "align_items": null,
            "bottom": null,
            "_model_module": "@jupyter-widgets/base",
            "top": null,
            "grid_column": null,
            "overflow_y": null,
            "overflow_x": null,
            "grid_auto_flow": null,
            "grid_area": null,
            "grid_template_columns": null,
            "flex": null,
            "_model_name": "LayoutModel",
            "justify_items": null,
            "grid_row": null,
            "max_height": null,
            "align_content": null,
            "visibility": null,
            "align_self": null,
            "height": null,
            "min_height": null,
            "padding": null,
            "grid_auto_rows": null,
            "grid_gap": null,
            "max_width": null,
            "order": null,
            "_view_module_version": "1.2.0",
            "grid_template_areas": null,
            "object_position": null,
            "object_fit": null,
            "grid_auto_columns": null,
            "margin": null,
            "display": null,
            "left": null
          }
        },
        "9375fdf49b5347199ab7afb47a3c0cf4": {
          "model_module": "@jupyter-widgets/controls",
          "model_name": "SliderStyleModel",
          "state": {
            "_view_name": "StyleView",
            "handle_color": null,
            "_model_name": "SliderStyleModel",
            "description_width": "",
            "_view_module": "@jupyter-widgets/base",
            "_model_module_version": "1.5.0",
            "_view_count": null,
            "_view_module_version": "1.2.0",
            "_model_module": "@jupyter-widgets/controls"
          }
        },
        "7db46c7346e74d96b1ab4db724fa62d7": {
          "model_module": "@jupyter-widgets/base",
          "model_name": "LayoutModel",
          "state": {
            "_view_name": "LayoutView",
            "grid_template_rows": null,
            "right": null,
            "justify_content": null,
            "_view_module": "@jupyter-widgets/base",
            "overflow": null,
            "_model_module_version": "1.2.0",
            "_view_count": null,
            "flex_flow": null,
            "width": null,
            "min_width": null,
            "border": null,
            "align_items": null,
            "bottom": null,
            "_model_module": "@jupyter-widgets/base",
            "top": null,
            "grid_column": null,
            "overflow_y": null,
            "overflow_x": null,
            "grid_auto_flow": null,
            "grid_area": null,
            "grid_template_columns": null,
            "flex": null,
            "_model_name": "LayoutModel",
            "justify_items": null,
            "grid_row": null,
            "max_height": null,
            "align_content": null,
            "visibility": null,
            "align_self": null,
            "height": null,
            "min_height": null,
            "padding": null,
            "grid_auto_rows": null,
            "grid_gap": null,
            "max_width": null,
            "order": null,
            "_view_module_version": "1.2.0",
            "grid_template_areas": null,
            "object_position": null,
            "object_fit": null,
            "grid_auto_columns": null,
            "margin": null,
            "display": null,
            "left": null
          }
        },
        "6768dea59b6748f6877a498d4bae9268": {
          "model_module": "@jupyter-widgets/base",
          "model_name": "LayoutModel",
          "state": {
            "_view_name": "LayoutView",
            "grid_template_rows": null,
            "right": null,
            "justify_content": null,
            "_view_module": "@jupyter-widgets/base",
            "overflow": null,
            "_model_module_version": "1.2.0",
            "_view_count": null,
            "flex_flow": null,
            "width": null,
            "min_width": null,
            "border": null,
            "align_items": null,
            "bottom": null,
            "_model_module": "@jupyter-widgets/base",
            "top": null,
            "grid_column": null,
            "overflow_y": null,
            "overflow_x": null,
            "grid_auto_flow": null,
            "grid_area": null,
            "grid_template_columns": null,
            "flex": null,
            "_model_name": "LayoutModel",
            "justify_items": null,
            "grid_row": null,
            "max_height": null,
            "align_content": null,
            "visibility": null,
            "align_self": null,
            "height": null,
            "min_height": null,
            "padding": null,
            "grid_auto_rows": null,
            "grid_gap": null,
            "max_width": null,
            "order": null,
            "_view_module_version": "1.2.0",
            "grid_template_areas": null,
            "object_position": null,
            "object_fit": null,
            "grid_auto_columns": null,
            "margin": null,
            "display": null,
            "left": null
          }
        }
      }
    }
  },
  "cells": [
    {
      "cell_type": "markdown",
      "metadata": {
        "id": "zSOMAHldq2xR",
        "colab_type": "text"
      },
      "source": [
        "## Deep Causal Variational Inference\n",
        "\n",
        "### Introduction:\n",
        "To train a supervised variational autoencoder using Deepmind's [dSprites](https://github.com/deepmind/dsprites-dataset) dataset.\n",
        "\n",
        "dSprites is a dataset of sprites, which are 2D shapes procedurally generated from 5 ground truth independent \"factors.\" These factors are color, shape, scale, rotation, x and y positions of a sprite.\n",
        "\n",
        "All possible combinations of these variables are present exactly once, generating N = 737280 total images.\n",
        "\n",
        "Factors and their values:\n",
        "\n",
        "* Shape: 3 values {square, ellipse, heart}\n",
        "* Scale: 6 values linearly spaced in (0.5, 1)\n",
        "* Orientation: 40 values in (0, 2$\\pi$)\n",
        "* Position X: 32 values in (0, 1)\n",
        "* Position Y: 32 values in (0, 1)\n",
        "\n",
        "\n",
        "Further, the objective of any generative model is essentially to capture underlying data generative factors, the disentangled representation would mean a single latent unit being sensitive to variations in single generative factors\n",
        "\n",
        "\n",
        "### Goal:\n",
        "To include the latent factors  as labels in the training and to invent a causal story that relates these factors and the images in a DAG.\n",
        "\n",
        "Reference \n",
        "\n",
        "[Structured Disentangled Representation](https://arxiv.org/pdf/1804.02086.pdf)"
      ]
    },
    {
      "cell_type": "code",
      "metadata": {
        "id": "CMhHGoIwCwkN",
        "colab_type": "code",
        "outputId": "b0772851-7574-4f9d-d1d5-bd1e2bef4e64",
        "colab": {
          "base_uri": "https://localhost:8080/",
          "height": 558
        }
      },
      "source": [
        "#Install dependencies\n",
        "!pip3 install pyro-ppl\n",
        "!pip3 install torch torchvision\n",
        "!pip3 install pydrive --upgrade\n",
        "!pip3 install tqdm"
      ],
      "execution_count": 1,
      "outputs": [
        {
          "output_type": "stream",
          "text": [
            "Collecting pyro-ppl\n",
            "\u001b[?25l  Downloading https://files.pythonhosted.org/packages/c0/77/4db4946f6b5bf0601869c7b7594def42a7197729167484e1779fff5ca0d6/pyro_ppl-1.3.1-py3-none-any.whl (520kB)\n",
            "\r\u001b[K     |▋                               | 10kB 29.1MB/s eta 0:00:01\r\u001b[K     |█▎                              | 20kB 1.7MB/s eta 0:00:01\r\u001b[K     |█▉                              | 30kB 2.2MB/s eta 0:00:01\r\u001b[K     |██▌                             | 40kB 2.5MB/s eta 0:00:01\r\u001b[K     |███▏                            | 51kB 2.0MB/s eta 0:00:01\r\u001b[K     |███▊                            | 61kB 2.2MB/s eta 0:00:01\r\u001b[K     |████▍                           | 71kB 2.4MB/s eta 0:00:01\r\u001b[K     |█████                           | 81kB 2.7MB/s eta 0:00:01\r\u001b[K     |█████▋                          | 92kB 2.8MB/s eta 0:00:01\r\u001b[K     |██████▎                         | 102kB 2.7MB/s eta 0:00:01\r\u001b[K     |███████                         | 112kB 2.7MB/s eta 0:00:01\r\u001b[K     |███████▌                        | 122kB 2.7MB/s eta 0:00:01\r\u001b[K     |████████▏                       | 133kB 2.7MB/s eta 0:00:01\r\u001b[K     |████████▉                       | 143kB 2.7MB/s eta 0:00:01\r\u001b[K     |█████████▍                      | 153kB 2.7MB/s eta 0:00:01\r\u001b[K     |██████████                      | 163kB 2.7MB/s eta 0:00:01\r\u001b[K     |██████████▊                     | 174kB 2.7MB/s eta 0:00:01\r\u001b[K     |███████████▎                    | 184kB 2.7MB/s eta 0:00:01\r\u001b[K     |████████████                    | 194kB 2.7MB/s eta 0:00:01\r\u001b[K     |████████████▋                   | 204kB 2.7MB/s eta 0:00:01\r\u001b[K     |█████████████▏                  | 215kB 2.7MB/s eta 0:00:01\r\u001b[K     |█████████████▉                  | 225kB 2.7MB/s eta 0:00:01\r\u001b[K     |██████████████▌                 | 235kB 2.7MB/s eta 0:00:01\r\u001b[K     |███████████████                 | 245kB 2.7MB/s eta 0:00:01\r\u001b[K     |███████████████▊                | 256kB 2.7MB/s eta 0:00:01\r\u001b[K     |████████████████▍               | 266kB 2.7MB/s eta 0:00:01\r\u001b[K     |█████████████████               | 276kB 2.7MB/s eta 0:00:01\r\u001b[K     |█████████████████▋              | 286kB 2.7MB/s eta 0:00:01\r\u001b[K     |██████████████████▎             | 296kB 2.7MB/s eta 0:00:01\r\u001b[K     |██████████████████▉             | 307kB 2.7MB/s eta 0:00:01\r\u001b[K     |███████████████████▌            | 317kB 2.7MB/s eta 0:00:01\r\u001b[K     |████████████████████▏           | 327kB 2.7MB/s eta 0:00:01\r\u001b[K     |████████████████████▊           | 337kB 2.7MB/s eta 0:00:01\r\u001b[K     |█████████████████████▍          | 348kB 2.7MB/s eta 0:00:01\r\u001b[K     |██████████████████████          | 358kB 2.7MB/s eta 0:00:01\r\u001b[K     |██████████████████████▋         | 368kB 2.7MB/s eta 0:00:01\r\u001b[K     |███████████████████████▎        | 378kB 2.7MB/s eta 0:00:01\r\u001b[K     |████████████████████████        | 389kB 2.7MB/s eta 0:00:01\r\u001b[K     |████████████████████████▌       | 399kB 2.7MB/s eta 0:00:01\r\u001b[K     |█████████████████████████▏      | 409kB 2.7MB/s eta 0:00:01\r\u001b[K     |█████████████████████████▉      | 419kB 2.7MB/s eta 0:00:01\r\u001b[K     |██████████████████████████▍     | 430kB 2.7MB/s eta 0:00:01\r\u001b[K     |███████████████████████████     | 440kB 2.7MB/s eta 0:00:01\r\u001b[K     |███████████████████████████▊    | 450kB 2.7MB/s eta 0:00:01\r\u001b[K     |████████████████████████████▎   | 460kB 2.7MB/s eta 0:00:01\r\u001b[K     |█████████████████████████████   | 471kB 2.7MB/s eta 0:00:01\r\u001b[K     |█████████████████████████████▋  | 481kB 2.7MB/s eta 0:00:01\r\u001b[K     |██████████████████████████████▏ | 491kB 2.7MB/s eta 0:00:01\r\u001b[K     |██████████████████████████████▉ | 501kB 2.7MB/s eta 0:00:01\r\u001b[K     |███████████████████████████████▌| 512kB 2.7MB/s eta 0:00:01\r\u001b[K     |████████████████████████████████| 522kB 2.7MB/s \n",
            "\u001b[?25hRequirement already satisfied: numpy>=1.7 in /usr/local/lib/python3.6/dist-packages (from pyro-ppl) (1.18.2)\n",
            "Requirement already satisfied: torch>=1.4.0 in /usr/local/lib/python3.6/dist-packages (from pyro-ppl) (1.4.0)\n",
            "Requirement already satisfied: tqdm>=4.36 in /usr/local/lib/python3.6/dist-packages (from pyro-ppl) (4.38.0)\n",
            "Collecting pyro-api>=0.1.1\n",
            "  Downloading https://files.pythonhosted.org/packages/c2/bc/6cdbd1929e32fff62a33592633c2cc0393c7f7739131ccc9c9c4e28ac8dd/pyro_api-0.1.1-py3-none-any.whl\n",
            "Requirement already satisfied: opt-einsum>=2.3.2 in /usr/local/lib/python3.6/dist-packages (from pyro-ppl) (3.2.1)\n",
            "Installing collected packages: pyro-api, pyro-ppl\n",
            "Successfully installed pyro-api-0.1.1 pyro-ppl-1.3.1\n",
            "Requirement already satisfied: torch in /usr/local/lib/python3.6/dist-packages (1.4.0)\n",
            "Requirement already satisfied: torchvision in /usr/local/lib/python3.6/dist-packages (0.5.0)\n",
            "Requirement already satisfied: pillow>=4.1.1 in /usr/local/lib/python3.6/dist-packages (from torchvision) (7.0.0)\n",
            "Requirement already satisfied: six in /usr/local/lib/python3.6/dist-packages (from torchvision) (1.12.0)\n",
            "Requirement already satisfied: numpy in /usr/local/lib/python3.6/dist-packages (from torchvision) (1.18.2)\n",
            "Requirement already up-to-date: pydrive in /usr/local/lib/python3.6/dist-packages (1.3.1)\n",
            "Requirement already satisfied, skipping upgrade: PyYAML>=3.0 in /usr/local/lib/python3.6/dist-packages (from pydrive) (3.13)\n",
            "Requirement already satisfied, skipping upgrade: oauth2client>=4.0.0 in /usr/local/lib/python3.6/dist-packages (from pydrive) (4.1.3)\n",
            "Requirement already satisfied, skipping upgrade: google-api-python-client>=1.2 in /usr/local/lib/python3.6/dist-packages (from pydrive) (1.7.12)\n",
            "Requirement already satisfied, skipping upgrade: rsa>=3.1.4 in /usr/local/lib/python3.6/dist-packages (from oauth2client>=4.0.0->pydrive) (4.0)\n",
            "Requirement already satisfied, skipping upgrade: httplib2>=0.9.1 in /usr/local/lib/python3.6/dist-packages (from oauth2client>=4.0.0->pydrive) (0.17.2)\n",
            "Requirement already satisfied, skipping upgrade: pyasn1>=0.1.7 in /usr/local/lib/python3.6/dist-packages (from oauth2client>=4.0.0->pydrive) (0.4.8)\n",
            "Requirement already satisfied, skipping upgrade: six>=1.6.1 in /usr/local/lib/python3.6/dist-packages (from oauth2client>=4.0.0->pydrive) (1.12.0)\n",
            "Requirement already satisfied, skipping upgrade: pyasn1-modules>=0.0.5 in /usr/local/lib/python3.6/dist-packages (from oauth2client>=4.0.0->pydrive) (0.2.8)\n",
            "Requirement already satisfied, skipping upgrade: google-auth-httplib2>=0.0.3 in /usr/local/lib/python3.6/dist-packages (from google-api-python-client>=1.2->pydrive) (0.0.3)\n",
            "Requirement already satisfied, skipping upgrade: uritemplate<4dev,>=3.0.0 in /usr/local/lib/python3.6/dist-packages (from google-api-python-client>=1.2->pydrive) (3.0.1)\n",
            "Requirement already satisfied, skipping upgrade: google-auth>=1.4.1 in /usr/local/lib/python3.6/dist-packages (from google-api-python-client>=1.2->pydrive) (1.7.2)\n",
            "Requirement already satisfied, skipping upgrade: cachetools<3.2,>=2.0.0 in /usr/local/lib/python3.6/dist-packages (from google-auth>=1.4.1->google-api-python-client>=1.2->pydrive) (3.1.1)\n",
            "Requirement already satisfied, skipping upgrade: setuptools>=40.3.0 in /usr/local/lib/python3.6/dist-packages (from google-auth>=1.4.1->google-api-python-client>=1.2->pydrive) (46.1.3)\n",
            "Requirement already satisfied: tqdm in /usr/local/lib/python3.6/dist-packages (4.38.0)\n"
          ],
          "name": "stdout"
        }
      ]
    },
    {
      "cell_type": "code",
      "metadata": {
        "id": "uNa3MO8GCqWg",
        "colab_type": "code",
        "outputId": "acdde72c-9e68-48a9-d887-dcc521e1bdb5",
        "colab": {
          "base_uri": "https://localhost:8080/",
          "height": 70
        }
      },
      "source": [
        "# Load necessary libraries\n",
        "from matplotlib import pyplot as plt\n",
        "import numpy as np\n",
        "import seaborn as sns\n",
        "\n",
        "import os\n",
        "from collections import defaultdict\n",
        "\n",
        "import torch\n",
        "import torch.nn as nn\n",
        "\n",
        "from tqdm import tqdm\n",
        "import pyro\n",
        "import pyro.distributions as dist\n",
        "from pyro.infer import SVI, Trace_ELBO, TraceEnum_ELBO, config_enumerate, EmpiricalMarginal\n",
        "from pyro.optim import Adam, SGD\n",
        "import torch.distributions.constraints as constraints\n",
        "\n",
        "# Change figure aesthetics\n",
        "%matplotlib inline\n",
        "sns.set_context('talk', font_scale=1.2, rc={'lines.linewidth': 1.5})\n",
        "\n",
        "from ipywidgets import interact, interactive, fixed, interact_manual\n",
        "import ipywidgets as widgets\n",
        "\n",
        "#to utilize GPU capabilities\n",
        "USE_CUDA = True\n",
        "\n",
        "pyro.enable_validation(True)\n",
        "pyro.distributions.enable_validation(False)"
      ],
      "execution_count": 2,
      "outputs": [
        {
          "output_type": "stream",
          "text": [
            "/usr/local/lib/python3.6/dist-packages/statsmodels/tools/_testing.py:19: FutureWarning: pandas.util.testing is deprecated. Use the functions in the public API at pandas.testing instead.\n",
            "  import pandas.util.testing as tm\n"
          ],
          "name": "stderr"
        }
      ]
    },
    {
      "cell_type": "code",
      "metadata": {
        "id": "nkXRHmSqDFTy",
        "colab_type": "code",
        "outputId": "52efcb20-15da-4414-bdd0-636ac8301113",
        "colab": {
          "base_uri": "https://localhost:8080/",
          "height": 121
        }
      },
      "source": [
        "# Mount Google drive to load data\n",
        "from google.colab import drive\n",
        "drive.mount('/content/gdrive')"
      ],
      "execution_count": 3,
      "outputs": [
        {
          "output_type": "stream",
          "text": [
            "Go to this URL in a browser: https://accounts.google.com/o/oauth2/auth?client_id=947318989803-6bn6qk8qdgf4n4g3pfee6491hc0brc4i.apps.googleusercontent.com&redirect_uri=urn%3aietf%3awg%3aoauth%3a2.0%3aoob&response_type=code&scope=email%20https%3a%2f%2fwww.googleapis.com%2fauth%2fdocs.test%20https%3a%2f%2fwww.googleapis.com%2fauth%2fdrive%20https%3a%2f%2fwww.googleapis.com%2fauth%2fdrive.photos.readonly%20https%3a%2f%2fwww.googleapis.com%2fauth%2fpeopleapi.readonly\n",
            "\n",
            "Enter your authorization code:\n",
            "··········\n",
            "Mounted at /content/gdrive\n"
          ],
          "name": "stdout"
        }
      ]
    },
    {
      "cell_type": "code",
      "metadata": {
        "id": "cqyc4SqyDLIq",
        "colab_type": "code",
        "outputId": "9aee6d67-55a2-49dd-8121-2e31e3378919",
        "colab": {
          "base_uri": "https://localhost:8080/",
          "height": 235
        }
      },
      "source": [
        "# Hack to get all available GPU ram.\n",
        "\n",
        "import tensorflow as tf\n",
        "tf.test.gpu_device_name()\n",
        "\n",
        "# !ln -sf /opt/bin/nvidia-smi /usr/bin/nvidia-smi\n",
        "!pip install gputil\n",
        "!pip install psutil\n",
        "!pip install humanize\n",
        "import psutil\n",
        "import humanize\n",
        "import os\n",
        "import GPUtil as GPU\n",
        "GPUs = GPU.getGPUs()\n",
        "# XXX: only one GPU on Colab and isn’t guaranteed\n",
        "gpu = GPUs[0]\n",
        "def printm():\n",
        " process = psutil.Process(os.getpid())\n",
        " print(\"Gen RAM Free: \" + humanize.naturalsize( psutil.virtual_memory().available ), \" | Proc size: \" + humanize.naturalsize( process.memory_info().rss))\n",
        " print(\"GPU RAM Free: {0:.0f}MB | Used: {1:.0f}MB | Util {2:3.0f}% | Total {3:.0f}MB\".format(gpu.memoryFree, gpu.memoryUsed, gpu.memoryUtil*100, gpu.memoryTotal))\n",
        "printm()"
      ],
      "execution_count": 4,
      "outputs": [
        {
          "output_type": "stream",
          "text": [
            "Collecting gputil\n",
            "  Downloading https://files.pythonhosted.org/packages/ed/0e/5c61eedde9f6c87713e89d794f01e378cfd9565847d4576fa627d758c554/GPUtil-1.4.0.tar.gz\n",
            "Building wheels for collected packages: gputil\n",
            "  Building wheel for gputil (setup.py) ... \u001b[?25l\u001b[?25hdone\n",
            "  Created wheel for gputil: filename=GPUtil-1.4.0-cp36-none-any.whl size=7413 sha256=bf8929c9be3e6cc0a2177da66749eb65812922b3818f181f8831f6e39412a977\n",
            "  Stored in directory: /root/.cache/pip/wheels/3d/77/07/80562de4bb0786e5ea186911a2c831fdd0018bda69beab71fd\n",
            "Successfully built gputil\n",
            "Installing collected packages: gputil\n",
            "Successfully installed gputil-1.4.0\n",
            "Requirement already satisfied: psutil in /usr/local/lib/python3.6/dist-packages (5.4.8)\n",
            "Requirement already satisfied: humanize in /usr/local/lib/python3.6/dist-packages (0.5.1)\n",
            "Gen RAM Free: 24.3 GB  | Proc size: 3.3 GB\n",
            "GPU RAM Free: 15477MB | Used: 803MB | Util   5% | Total 16280MB\n"
          ],
          "name": "stdout"
        }
      ]
    },
    {
      "cell_type": "code",
      "metadata": {
        "id": "nSkXleG1CqWj",
        "colab_type": "code",
        "colab": {}
      },
      "source": [
        "class Encoder(nn.Module):\n",
        "\t\"\"\"\n",
        "    MLPs (multi-layered perceptrons or simple feed-forward networks)\n",
        "    where the provided activation parameter is used on every linear layer except\n",
        "    for the output layer where we use the provided output_activation parameter\n",
        "\t\"\"\"\n",
        "\tdef __init__(self, image_dim, label_dim, z_dim):\n",
        "\t\tsuper(Encoder, self).__init__()\n",
        "\t\t#setup image and label dimensions from the dataset\n",
        "\t\tself.image_dim = image_dim\n",
        "\t\tself.label_dim = label_dim\n",
        "\t\tself.z_dim = z_dim\n",
        "\t\t# setup the three linear transformations used\n",
        "\t\tself.fc1 = nn.Linear(self.image_dim+self.label_dim, 1000)\n",
        "\t\tself.fc2 = nn.Linear(1000, 1000)\n",
        "\t\tself.fc31 = nn.Linear(1000, z_dim)  # mu values\n",
        "\t\tself.fc32 = nn.Linear(1000, z_dim)  # sigma values\n",
        "\t\t# setup the non-linearities\n",
        "\t\tself.softplus = nn.Softplus()\n",
        "\n",
        "\t#Explaination: xs:- shape: [1, 4096] flattened 64*64 image; ys:- shape[1, 114] flattended one hot encoded values of 6 labels\n",
        "\tdef forward(self, xs, ys):\n",
        "\t\txs = xs.reshape(-1, self.image_dim)\n",
        "\t\t#now concatenate the image and label\n",
        "\t\tinputs = torch.cat((xs,ys), -1)\n",
        "\t\t# then compute the hidden units\n",
        "\t\thidden1 = self.softplus(self.fc1(inputs))\n",
        "\t\thidden2 = self.softplus(self.fc2(hidden1))\n",
        "\t\t# then return a mean vector and a (positive) square root covariance\n",
        "\t\t# each of size batch_size x z_dim\n",
        "\t\tz_loc = self.fc31(hidden2)\n",
        "\t\tz_scale = torch.exp(self.fc32(hidden2))\n",
        "\t\treturn z_loc, z_scale\n",
        "\n",
        "\n",
        "class Decoder(nn.Module):\n",
        "\tdef __init__(self, image_dim, label_dim, z_dim):\n",
        "\t\tsuper(Decoder, self).__init__()\n",
        "\t\t# setup the two linear transformations used\n",
        "\t\thidden_dim = 1000\n",
        "\t\tself.fc1 = nn.Linear(z_dim+label_dim, hidden_dim)\n",
        "\t\tself.fc2 = nn.Linear(hidden_dim, hidden_dim)\n",
        "\t\tself.fc3 = nn.Linear(hidden_dim, hidden_dim)\n",
        "\t\tself.fc4 = nn.Linear(hidden_dim, image_dim)\n",
        "\t\t# setup the non-linearities\n",
        "\t\tself.softplus = nn.Softplus()\n",
        "\t\tself.sigmoid = nn.Sigmoid()\n",
        "\n",
        "\tdef forward(self, zs, ys):\n",
        "\t\tinputs = torch.cat((zs, ys),-1)\n",
        "\t\t# then compute the hidden units\n",
        "\t\thidden1 = self.softplus(self.fc1(inputs))\n",
        "\t\thidden2 = self.softplus(self.fc2(hidden1))\n",
        "\t\thidden3 = self.softplus(self.fc3(hidden2))\n",
        "\t\t# return the parameter for the output Bernoulli\n",
        "\t\t# each is of size batch_size x 784\n",
        "\t\tloc_img = self.sigmoid(self.fc4(hidden3))\n",
        "\t\treturn loc_img"
      ],
      "execution_count": 0,
      "outputs": []
    },
    {
      "cell_type": "code",
      "metadata": {
        "id": "Yqj05Mv8CqWm",
        "colab_type": "code",
        "colab": {}
      },
      "source": [
        "#Explaination: Shapes:- xs: [1, image_dim(4096)], ys: [1, label_dim(114)], zs: [1, z_dim(50)]\n",
        "class CVAE(nn.Module):\n",
        "\t\"\"\"\n",
        "\tThis class encapsulates the parameters (neural networks) and models & guides \n",
        "\tneeded to train a supervised variational auto-encoder \n",
        "\t\"\"\"\n",
        "\tdef __init__(self, config_enum=None, use_cuda=False, aux_loss_multiplier=None):\n",
        "    \n",
        "\t\tsuper(CVAE, self).__init__()\n",
        "\t\tself.image_dim = 64**2\n",
        "\t\tself.label_shape = np.array((1,3,6,40,32,32))\n",
        "\t\tself.label_names = np.array(('color', 'shape', 'scale', 'orientation', 'posX', 'posY'))\n",
        "\t\tself.label_dim = np.sum(self.label_shape)\n",
        "\t\tself.z_dim = 50                                           \n",
        "\t\tself.allow_broadcast = config_enum == 'parallel'\n",
        "\t\tself.use_cuda = use_cuda\n",
        "\t\tself.aux_loss_multiplier = aux_loss_multiplier\n",
        "\t    # define and instantiate the neural networks representing\n",
        "\t    # the paramters of various distributions in the model\n",
        "\t\tself.setup_networks()\n",
        "\n",
        "\tdef setup_networks(self):\n",
        "\t\t\"\"\"\n",
        "\t\tSetup and initialize Encoder and decoder units\n",
        "\t\t\"\"\"\n",
        "\t\tself.encoder = Encoder(self.image_dim, self.label_dim, self.z_dim)\n",
        "\t\tself.decoder = Decoder(self.image_dim, self.label_dim, self.z_dim)\n",
        "\t\t# using GPUs for faster training of the networks\n",
        "\t\tif self.use_cuda:\n",
        "\t\t    self.cuda()\n",
        "\n",
        "\tdef model(self, xs, ys):\n",
        "\t\tpyro.module(\"cvae\", self)\n",
        "\t\tbatch_size = xs.size(0)\n",
        "\t\toptions = dict(dtype=xs.dtype, device=xs.device)\n",
        "\t\twith pyro.plate(\"data\"):\n",
        "\t\t\tprior_loc = torch.zeros(batch_size, self.z_dim, **options)\n",
        "\t\t\tprior_scale = torch.ones(batch_size, self.z_dim, **options)\n",
        "\t\t\tzs = pyro.sample(\"z\", dist.Normal(prior_loc, prior_scale).to_event(1))\n",
        "\t\t\t# if the label y (which digit to write) is supervised, sample from the\n",
        "\t\t\t# constant prior, otherwise, observe the value (i.e. score it against the constant prior)\n",
        "\t\t\tloc = self.decoder.forward(zs, self.remap_y(ys))\n",
        "\t\t\tpyro.sample(\"x\", dist.Bernoulli(loc).to_event(1), obs=xs)\n",
        "\t\t  \t# return the loc so we can visualize it later\n",
        "\t\t\treturn loc\n",
        "\n",
        "\tdef guide(self, xs, ys):\n",
        "\t\twith pyro.plate(\"data\"):\n",
        "\t\t\t# sample (and score) the latent handwriting-style with the variational\n",
        "\t\t\t# distribution q(z|x) = normal(loc(x),scale(x))\n",
        "\t\t\tloc, scale = self.encoder.forward(xs, self.remap_y(ys))\n",
        "\t\t\tpyro.sample(\"z\", dist.Normal(loc, scale).to_event(1))\n",
        "\n",
        "\t#Explaination: Kind of one hot encodes each labels of ys. ys size: 6. size of each label: 1+3+6+40+32+32. new_ys size: 114. new_ys contains 1 at particular place of value of that label in ys \n",
        "\tdef remap_y(self, ys):\n",
        "\t\tnew_ys = []\n",
        "\t\toptions = dict(dtype=ys.dtype, device=ys.device)\n",
        "\t\tfor i, label_length in enumerate(self.label_shape):\n",
        "\t\t    prior = torch.ones(ys.size(0), label_length, **options) / (1.0 * label_length)\n",
        "\t\t    new_ys.append(pyro.sample(\"y_%s\" % self.label_names[i], dist.OneHotCategorical(prior), \n",
        "\t\t                           obs=torch.nn.functional.one_hot(ys[:,i].to(torch.int64), int(label_length))))\n",
        "\t\tnew_ys = torch.cat(new_ys, -1)\n",
        "\t\treturn new_ys.to(torch.float32)\n",
        "\n",
        "\t#Explaination: Reconstruct decoded image using a VAE by using an original image and its label\n",
        "\tdef reconstruct_image(self, xs, ys):\n",
        "\t\t# backward\n",
        "\t\tsim_z_loc, sim_z_scale = self.encoder.forward(xs, self.remap_y(ys))\n",
        "\t\tzs = dist.Normal(sim_z_loc, sim_z_scale).to_event(1).sample()\n",
        "\t\t# forward\n",
        "\t\tloc = self.decoder.forward(zs, self.remap_y(ys))\n",
        "\t\treturn dist.Bernoulli(loc).to_event(1).sample()"
      ],
      "execution_count": 0,
      "outputs": []
    },
    {
      "cell_type": "code",
      "metadata": {
        "id": "1mmMe3D8CqWo",
        "colab_type": "code",
        "colab": {}
      },
      "source": [
        "def setup_data_loaders(train_x, test_x, train_y, test_y, batch_size=128, use_cuda=False):\n",
        "\ttrain_dset = torch.utils.data.TensorDataset(\n",
        "\t  torch.from_numpy(train_x.astype(np.float32)).reshape(-1, 4096),\n",
        "\t  torch.from_numpy(train_y.astype(np.float32))\n",
        "\t)\n",
        "\ttest_dset = torch.utils.data.TensorDataset(\n",
        "\t  torch.from_numpy(test_x.astype(np.float32)).reshape(-1, 4096),\n",
        "\t  torch.from_numpy(test_y.astype(np.float32))\n",
        "\t)    \n",
        "\tkwargs = {'num_workers': 1, 'pin_memory': use_cuda}\n",
        "\ttrain_loader = torch.utils.data.DataLoader(\n",
        "\t  dataset=train_dset, batch_size=batch_size, shuffle=False, **kwargs\n",
        "\t)\n",
        "\n",
        "\ttest_loader = torch.utils.data.DataLoader(\n",
        "\t  dataset=test_dset, batch_size=batch_size, shuffle=False, **kwargs\n",
        "\t)\n",
        "\treturn {\"train\":train_loader, \"test\":test_loader}"
      ],
      "execution_count": 0,
      "outputs": []
    },
    {
      "cell_type": "code",
      "metadata": {
        "id": "azMSBtsnCqWr",
        "colab_type": "code",
        "colab": {}
      },
      "source": [
        "dataset_zip = np.load(\n",
        "    '/content/gdrive/My Drive/dsprites-dataset-master/dsprites_ndarray_co1sh3sc6or40x32y32_64x64.npz',\n",
        "    encoding = 'bytes',\n",
        "    allow_pickle=True\n",
        ")\n",
        "\n",
        "imgs = dataset_zip['imgs']\n",
        "labels = dataset_zip['latents_classes']\n",
        "label_sizes = dataset_zip['metadata'][()][b'latents_sizes']\n",
        "label_names = dataset_zip['metadata'][()][b'latents_names']\n",
        "\n",
        "# print(label_sizes)\n",
        "# Sample imgs randomly\n",
        "indices_sampled = np.arange(imgs.shape[0])\n",
        "np.random.shuffle(indices_sampled)\n",
        "imgs_sampled = imgs[indices_sampled]\n",
        "labels_sampled = labels[indices_sampled]\n",
        "\n",
        "## Sampled Images of Dimension (737280, 64, 64) and Labels Dimension (737280, 6)\n",
        "\n",
        "data_loaders = setup_data_loaders(\n",
        "    imgs_sampled[1000:],\n",
        "    imgs_sampled[:1000],\n",
        "    labels_sampled[1000:],\n",
        "    labels_sampled[:1000],\n",
        "    batch_size=256,\n",
        "    use_cuda=USE_CUDA\n",
        ")\n"
      ],
      "execution_count": 0,
      "outputs": []
    },
    {
      "cell_type": "code",
      "metadata": {
        "id": "Eamf-n9hCqWt",
        "colab_type": "code",
        "colab": {}
      },
      "source": [
        "# Loss function for train Data\n",
        "\n",
        "def train(svi, train_loader, use_cuda=False):\n",
        "\t# initialize loss accumulator\n",
        "\tepoch_loss = 0.\n",
        "\t# do a training epoch over each mini-batch x returned\n",
        "\t# by the data loader\n",
        "\tfor xs,ys in train_loader:\n",
        "\t  # if on GPU put mini-batch into CUDA memory\n",
        "\t  if use_cuda:\n",
        "\t      xs = xs.cuda()\n",
        "\t      ys = ys.cuda()\n",
        "\t  # do ELBO gradient and accumulate loss\n",
        "\t  epoch_loss += svi.step(xs, ys)\n",
        "\t# return epoch loss\n",
        "\tnormalizer_train = len(train_loader.dataset)\n",
        "\ttotal_epoch_loss_train = epoch_loss / normalizer_train\n",
        "\treturn total_epoch_loss_train\n",
        "\n",
        "# Loss function for test data\n",
        "\n",
        "def evaluate(svi, test_loader, use_cuda=False):\n",
        "\t# initialize loss accumulator\n",
        "\ttest_loss = 0.\n",
        "\t# compute the loss over the entire test set\n",
        "\tfor xs, ys in test_loader:\n",
        "\t  # if on GPU put mini-batch into CUDA memory\n",
        "\t  if use_cuda:\n",
        "\t      xs = xs.cuda()\n",
        "\t      ys = ys.cuda()\n",
        "\t  # compute ELBO estimate and accumulate loss\n",
        "\t  test_loss += svi.evaluate_loss(xs, ys)\n",
        "\tnormalizer_test = len(test_loader.dataset)\n",
        "\ttotal_epoch_loss_test = test_loss / normalizer_test\n",
        "\treturn total_epoch_loss_test"
      ],
      "execution_count": 0,
      "outputs": []
    },
    {
      "cell_type": "code",
      "metadata": {
        "id": "LR-hW5UzCqWv",
        "colab_type": "code",
        "colab": {}
      },
      "source": [
        "# Declaring parameters to train the model\n",
        "# Run options\n",
        "LEARNING_RATE = 1.0e-3\n",
        "\n",
        "# Run only for a single iteration for testing\n",
        "NUM_EPOCHS = 10\n",
        "TEST_FREQUENCY = 5"
      ],
      "execution_count": 0,
      "outputs": []
    },
    {
      "cell_type": "code",
      "metadata": {
        "id": "9YVGn4tMgVho",
        "colab_type": "code",
        "colab": {}
      },
      "source": [
        ""
      ],
      "execution_count": 0,
      "outputs": []
    },
    {
      "cell_type": "markdown",
      "metadata": {
        "id": "usux4OJrgYXs",
        "colab_type": "text"
      },
      "source": [
        "# Training the Model"
      ]
    },
    {
      "cell_type": "code",
      "metadata": {
        "id": "hIuVKC2lCqWx",
        "colab_type": "code",
        "outputId": "485a3e7b-ecbe-43c2-86fd-b879248ea175",
        "colab": {
          "base_uri": "https://localhost:8080/",
          "height": 235
        }
      },
      "source": [
        "import warnings\n",
        "warnings.filterwarnings('ignore')\n",
        "\n",
        "# clear param store\n",
        "pyro.clear_param_store()\n",
        "\n",
        "# setup the VAE\n",
        "vae = CVAE(use_cuda=USE_CUDA)\n",
        "\n",
        "# setup the optimizer\n",
        "adam_args = {\"lr\": LEARNING_RATE}\n",
        "optimizer = Adam(adam_args)\n",
        "\n",
        "# setup the inference algorithm\n",
        "svi = SVI(vae.model, vae.guide, optimizer, loss=Trace_ELBO())\n",
        "\n",
        "train_elbo = []\n",
        "test_elbo = []\n",
        "# training loop\n",
        "\n",
        "VERBOSE = True\n",
        "pbar = tqdm(range(NUM_EPOCHS))\n",
        "for epoch in pbar:\n",
        "    total_epoch_loss_train = train(svi, data_loaders[\"train\"], use_cuda=USE_CUDA)\n",
        "    train_elbo.append(-total_epoch_loss_train)\n",
        "    if VERBOSE:\n",
        "        print(\"[epoch %03d]  average training loss: %.4f\" % (epoch, total_epoch_loss_train))\n",
        "    if epoch % TEST_FREQUENCY == 0:\n",
        "        # report test diagnostics\n",
        "        total_epoch_loss_test = evaluate(svi, data_loaders[\"test\"], use_cuda=USE_CUDA)\n",
        "        test_elbo.append(-total_epoch_loss_test)\n",
        "        if VERBOSE:\n",
        "            print(\"[epoch %03d] average test loss: %.4f\" % (epoch, total_epoch_loss_test))"
      ],
      "execution_count": 0,
      "outputs": [
        {
          "output_type": "stream",
          "text": [
            "\r  0%|          | 0/10 [00:00<?, ?it/s]"
          ],
          "name": "stderr"
        },
        {
          "output_type": "stream",
          "text": [
            "[epoch 000]  average training loss: 163.6926\n"
          ],
          "name": "stdout"
        },
        {
          "output_type": "stream",
          "text": [
            "\r 10%|█         | 1/10 [01:19<11:58, 79.87s/it]"
          ],
          "name": "stderr"
        },
        {
          "output_type": "stream",
          "text": [
            "[epoch 000] average test loss: 91.3258\n"
          ],
          "name": "stdout"
        },
        {
          "output_type": "stream",
          "text": [
            "\r 20%|██        | 2/10 [02:39<10:39, 79.89s/it]"
          ],
          "name": "stderr"
        },
        {
          "output_type": "stream",
          "text": [
            "[epoch 001]  average training loss: 74.7274\n"
          ],
          "name": "stdout"
        },
        {
          "output_type": "stream",
          "text": [
            "\r 30%|███       | 3/10 [03:59<09:18, 79.76s/it]"
          ],
          "name": "stderr"
        },
        {
          "output_type": "stream",
          "text": [
            "[epoch 002]  average training loss: 62.3686\n"
          ],
          "name": "stdout"
        },
        {
          "output_type": "stream",
          "text": [
            "\r 40%|████      | 4/10 [05:20<08:00, 80.08s/it]"
          ],
          "name": "stderr"
        },
        {
          "output_type": "stream",
          "text": [
            "[epoch 003]  average training loss: 40.9727\n"
          ],
          "name": "stdout"
        },
        {
          "output_type": "stream",
          "text": [
            "\r 50%|█████     | 5/10 [06:40<06:41, 80.25s/it]"
          ],
          "name": "stderr"
        },
        {
          "output_type": "stream",
          "text": [
            "[epoch 004]  average training loss: 33.5931\n",
            "[epoch 005]  average training loss: 29.6520\n"
          ],
          "name": "stdout"
        },
        {
          "output_type": "stream",
          "text": [
            "\r 60%|██████    | 6/10 [08:02<05:23, 80.79s/it]"
          ],
          "name": "stderr"
        },
        {
          "output_type": "stream",
          "text": [
            "[epoch 005] average test loss: 29.5455\n"
          ],
          "name": "stdout"
        },
        {
          "output_type": "stream",
          "text": [
            "\r 70%|███████   | 7/10 [09:23<04:02, 80.80s/it]"
          ],
          "name": "stderr"
        },
        {
          "output_type": "stream",
          "text": [
            "[epoch 006]  average training loss: 22.6456\n"
          ],
          "name": "stdout"
        },
        {
          "output_type": "stream",
          "text": [
            "\r 80%|████████  | 8/10 [10:44<02:41, 80.74s/it]"
          ],
          "name": "stderr"
        },
        {
          "output_type": "stream",
          "text": [
            "[epoch 007]  average training loss: 18.7127\n"
          ],
          "name": "stdout"
        },
        {
          "output_type": "stream",
          "text": [
            "\r 90%|█████████ | 9/10 [12:04<01:20, 80.51s/it]"
          ],
          "name": "stderr"
        },
        {
          "output_type": "stream",
          "text": [
            "[epoch 008]  average training loss: 17.5728\n"
          ],
          "name": "stdout"
        },
        {
          "output_type": "stream",
          "text": [
            "100%|██████████| 10/10 [13:24<00:00, 80.41s/it]"
          ],
          "name": "stderr"
        },
        {
          "output_type": "stream",
          "text": [
            "[epoch 009]  average training loss: 16.6572\n"
          ],
          "name": "stdout"
        },
        {
          "output_type": "stream",
          "text": [
            "\n"
          ],
          "name": "stderr"
        }
      ]
    },
    {
      "cell_type": "code",
      "metadata": {
        "id": "pk4CtaTlSkiS",
        "colab_type": "code",
        "colab": {}
      },
      "source": [
        "#################################\n",
        "### FOR SAVING AND LOADING MODEL\n",
        "################################\n",
        "# clear param store\n",
        "\n",
        "pyro.clear_param_store()\n",
        "\n",
        "network_path = \"/content/gdrive/My Drive/CausalML/Project/trained_model.save\"\n",
        "torch.save(vae.state_dict(), network_path)"
      ],
      "execution_count": 0,
      "outputs": []
    },
    {
      "cell_type": "code",
      "metadata": {
        "id": "5Ku3cq4NQ7WX",
        "colab_type": "code",
        "outputId": "742f71b3-870b-4bb9-cb45-366c4a7a1024",
        "colab": {
          "base_uri": "https://localhost:8080/",
          "height": 343
        }
      },
      "source": [
        "import matplotlib.pyplot as plt\n",
        "\n",
        "plt.plot(train_elbo)\n",
        "plt.xlabel(\"Epochs\")\n",
        "plt.ylabel(\"Total Epoch Loss Train\")\n",
        "\n",
        "plt.title(\"ELBO Plot for Train Data\")"
      ],
      "execution_count": 0,
      "outputs": [
        {
          "output_type": "execute_result",
          "data": {
            "text/plain": [
              "Text(0.5, 1.0, 'ELBO Plot for Train Data')"
            ]
          },
          "metadata": {
            "tags": []
          },
          "execution_count": 16
        },
        {
          "output_type": "display_data",
          "data": {
            "image/png": "[encoded data removed]",
            "text/plain": [
              "<Figure size 432x288 with 1 Axes>"
            ]
          },
          "metadata": {
            "tags": [],
            "needs_background": "light"
          }
        }
      ]
    },
    {
      "cell_type": "code",
      "metadata": {
        "id": "_iDqSUYcSuZX",
        "colab_type": "code",
        "outputId": "8a86051e-e324-4141-dfc8-66711c9a658a",
        "colab": {
          "base_uri": "https://localhost:8080/",
          "height": 34
        }
      },
      "source": [
        "######LOADING THE SAVED MODEL#############\n",
        "network_path = \"/content/gdrive/My Drive/CausalML/Project/trained_model.save\"\n",
        "\n",
        "vae=CVAE(use_cuda=USE_CUDA)\n",
        "vae.load_state_dict(torch.load(network_path))"
      ],
      "execution_count": 76,
      "outputs": [
        {
          "output_type": "execute_result",
          "data": {
            "text/plain": [
              "<All keys matched successfully>"
            ]
          },
          "metadata": {
            "tags": []
          },
          "execution_count": 76
        }
      ]
    },
    {
      "cell_type": "markdown",
      "metadata": {
        "id": "aFnfYMd3CqW0",
        "colab_type": "text"
      },
      "source": [
        "## Visualizing the reconstruction accuracy of VAE"
      ]
    },
    {
      "cell_type": "markdown",
      "metadata": {
        "id": "EwNTke9MJy5x",
        "colab_type": "text"
      },
      "source": [
        "Explaination: [2 cells] Checking and comparing original image with the one reconstructed from decoder"
      ]
    },
    {
      "cell_type": "code",
      "metadata": {
        "id": "nIt0T2eUCqW0",
        "colab_type": "code",
        "outputId": "7c781a63-08a9-458b-8b60-cc5298ff02b1",
        "colab": {
          "base_uri": "https://localhost:8080/",
          "height": 34
        }
      },
      "source": [
        "import warnings\n",
        "warnings.filterwarnings(\"ignore\")\n",
        "\n",
        "data_iter = iter(data_loaders[\"train\"])\n",
        "\n",
        "xs, ys = next(data_iter)\n",
        "print(xs.shape, ys.shape)\n",
        "if USE_CUDA:\n",
        "    xs = xs.cuda()\n",
        "    ys = ys.cuda()\n",
        "\n",
        "# Call to Reconstruct the Images from the Decoder\n",
        "rs = vae.reconstruct_image(xs, ys)\n",
        "\n",
        "if USE_CUDA:\n",
        "    xs = xs.cpu()\n",
        "    rs = rs.cpu()\n",
        "# Original Image\n",
        "originals = xs.numpy().reshape(-1, 64,64)\n",
        "\n",
        "# Reconstructed Image from VAE\n",
        "recons = rs.reshape(-1,64,64)"
      ],
      "execution_count": 77,
      "outputs": [
        {
          "output_type": "stream",
          "text": [
            "torch.Size([256, 4096]) torch.Size([256, 6])\n"
          ],
          "name": "stdout"
        }
      ]
    },
    {
      "cell_type": "code",
      "metadata": {
        "id": "1YBT2lo7CqW2",
        "colab_type": "code",
        "outputId": "f12fc1b7-bc35-490d-a452-aed0666fe7c3",
        "colab": {
          "base_uri": "https://localhost:8080/",
          "height": 232,
          "referenced_widgets": [
            "52fc6dd10d284a4fac7e7bce260ec806",
            "597da10eb11345059cef3f154adc718f",
            "1ef4de9336ac454c9a0a9e1ce2abde1d",
            "f87bf92fd9c6418bb7ea15f5aed93233",
            "cf144bd50f0b4937bd0a778890f30114",
            "80a94e48cfae45d5b4a0998cec3f0b33",
            "a10c7615facb4e5681d557f5c98a4023"
          ]
        }
      },
      "source": [
        "# [ 0,  2,  1, 34,  4, 24]\n",
        "def recon_check(original, recon):\n",
        "  fig = plt.figure()\n",
        "  ax0 = fig.add_subplot(121)\n",
        "  plt.imshow(original, cmap='Greys_r',  interpolation='nearest')\n",
        "  plt.axis('off')\n",
        "  ax1 = fig.add_subplot(122)\n",
        "  plt.imshow(recon , cmap='Greys_r', interpolation='nearest')\n",
        "  plt.axis('off')\n",
        "  \n",
        "def f(x):\n",
        "    fig = plt.figure()\n",
        "    ax0 = fig.add_subplot(121)\n",
        "    plt.imshow(originals[x], cmap='Greys_r',  interpolation='nearest')\n",
        "    plt.axis('off')\n",
        "    ax1 = fig.add_subplot(122)\n",
        "    plt.imshow(recons[x], cmap='Greys_r',  interpolation='nearest')\n",
        "    plt.axis('off')\n",
        "    \n",
        "interact(f, x=widgets.IntSlider(min=0, max=xs.shape[0]-1, step=1, value=0))"
      ],
      "execution_count": 78,
      "outputs": [
        {
          "output_type": "display_data",
          "data": {
            "application/vnd.jupyter.widget-view+json": {
              "model_id": "52fc6dd10d284a4fac7e7bce260ec806",
              "version_minor": 0,
              "version_major": 2
            },
            "text/plain": [
              "interactive(children=(IntSlider(value=0, description='x', max=255), Output()), _dom_classes=('widget-interact'…"
            ]
          },
          "metadata": {
            "tags": []
          }
        },
        {
          "output_type": "execute_result",
          "data": {
            "text/plain": [
              "<function __main__.f>"
            ]
          },
          "metadata": {
            "tags": []
          },
          "execution_count": 78
        }
      ]
    },
    {
      "cell_type": "code",
      "metadata": {
        "id": "62NRpouCIts6",
        "colab_type": "code",
        "colab": {}
      },
      "source": [
        ""
      ],
      "execution_count": 0,
      "outputs": []
    },
    {
      "cell_type": "markdown",
      "metadata": {
        "id": "Ou1in2mCJICn",
        "colab_type": "text"
      },
      "source": [
        "Explaination: [1 Cell] Sampled Images of the datset- All possible combination of dsprite images\n",
        "(Nothing to do with encoder-decoder or CVAE or anything)"
      ]
    },
    {
      "cell_type": "code",
      "metadata": {
        "id": "EVCzRnuIzNpL",
        "colab_type": "code",
        "outputId": "51a9d782-0fb3-4c70-ca5d-980e823d6234",
        "colab": {
          "base_uri": "https://localhost:8080/",
          "height": 425,
          "referenced_widgets": [
            "66c00f0196c642dfb7fbda31bbe2832b",
            "f84e445f415d4688be3e1f6c21b9cdb1",
            "252ed65361544f22bcaddf826d7ba82e",
            "90ea801e02e64820b575ee14165f9d7b",
            "33b0fe2269f546a6adf8686222315b0a",
            "85787f217efc48d4ae4e93d025d2342c",
            "f02edbfa24594beabdadd40188f013a5",
            "a50cd6dbdcc0443489578f3228330e54",
            "e468328db9d14c91a67a2ae17eb8302d",
            "97a7789678654590877ab7e023a6772d",
            "5ba1675b8e0647229c36551d178252c9",
            "44bf697df6944e1f986a7c9188a0eed1",
            "e2013696f78a4856a848d69c09d6cde8",
            "43c64cfc5ecf4920a4c60b6cfe6fb0dc",
            "0b0cf9f8fe934dabb8be024083fa049c",
            "bb3efd054e4a47068efdecd5a5feff39",
            "9375fdf49b5347199ab7afb47a3c0cf4",
            "7db46c7346e74d96b1ab4db724fa62d7",
            "6768dea59b6748f6877a498d4bae9268"
          ]
        }
      },
      "source": [
        "y_names = ['shape', 'scale', 'orientation', 'posX', 'posY']\n",
        "y_shapes = np.array((3,6,40,32,32))\n",
        "img_dict = {}\n",
        "\n",
        "for i, img in enumerate(imgs_sampled):\n",
        "     img_dict[tuple(labels_sampled[i])] = img\n",
        "\n",
        "# print(img_dict)\n",
        "def find_in_dataset(shape, scale, orient, posX, posY):\n",
        "  fig = plt.figure()\n",
        "  img = img_dict[(0, shape, scale, orient, posX, posY)]\n",
        "  plt.imshow(img.reshape(64,64), cmap='Greys_r', interpolation='nearest')\n",
        "  plt.axis('off')\n",
        "\n",
        "interact(find_in_dataset, \n",
        "         shape=widgets.IntSlider(min=0, max=2, step=1, value=0),\n",
        "         scale=widgets.IntSlider(min=0, max=5, step=1, value=0),\n",
        "         orient=widgets.IntSlider(min=0, max=39, step=1, value=0),\n",
        "         posX=widgets.IntSlider(min=0, max=31, step=1, value=0),\n",
        "         posY=widgets.IntSlider(min=0, max=31, step=1, value=0))"
      ],
      "execution_count": 79,
      "outputs": [
        {
          "output_type": "display_data",
          "data": {
            "application/vnd.jupyter.widget-view+json": {
              "model_id": "66c00f0196c642dfb7fbda31bbe2832b",
              "version_minor": 0,
              "version_major": 2
            },
            "text/plain": [
              "interactive(children=(IntSlider(value=0, description='shape', max=2), IntSlider(value=0, description='scale', …"
            ]
          },
          "metadata": {
            "tags": []
          }
        },
        {
          "output_type": "execute_result",
          "data": {
            "text/plain": [
              "<function __main__.find_in_dataset>"
            ]
          },
          "metadata": {
            "tags": []
          },
          "execution_count": 79
        }
      ]
    },
    {
      "cell_type": "code",
      "metadata": {
        "id": "1EueLb0OzSDm",
        "colab_type": "code",
        "outputId": "c33953ff-6edb-4d52-9eef-6958dc6f808a",
        "colab": {
          "base_uri": "https://localhost:8080/",
          "height": 541
        }
      },
      "source": [
        "def get_specific_data(args=dict(), cuda=False):\n",
        "    '''\n",
        "    use this function to get examples of data with specific class labels\n",
        "    inputs: \n",
        "        args - dictionary whose keys can include {shape, scale, orientation,\n",
        "                posX, posY} and values can include any integers less than the \n",
        "                corresponding size of that label dimension\n",
        "        cuda - bool to indicate whether the output should be placed on GPU\n",
        "    '''\n",
        "    \n",
        "    names_dict = {'shape': 1, 'scale': 2, 'orientation': 3, 'posX': 4, 'posY': 5}\n",
        "    selected_ind = np.ones(imgs.shape[0], dtype=bool)\n",
        "    for k,v in args.items():\n",
        "        col_id = names_dict[k]\n",
        "        selected_ind = np.bitwise_and(selected_ind, labels[:, col_id] == v)\n",
        "    # print(selected_ind)\n",
        "    ind = np.random.choice(np.arange(imgs.shape[0])[selected_ind])\n",
        "    # print(ind)\n",
        "    x = torch.from_numpy(imgs[ind].reshape(1,64**2).astype(np.float32))\n",
        "    y = torch.from_numpy(labels[ind].reshape(1,6).astype(np.float32))\n",
        "    if not cuda:\n",
        "        return x,y\n",
        "    x = x.cuda()\n",
        "    y = y.cuda()\n",
        "    return x,y\n",
        "\n",
        "def plot_image(x):\n",
        "    \"\"\"\n",
        "    helper to plot dSprites images\n",
        "    \"\"\"\n",
        "    x = x.cpu()\n",
        "    plt.figure()\n",
        "    plt.imshow(x.reshape(64,64), interpolation='nearest', cmap='Greys_r')\n",
        "    plt.axis('off')\n",
        "\n",
        "def see_specific_image(args=dict(), verbose=True):\n",
        "    '''\n",
        "    use this function to get examples of data with specific class labels\n",
        "    inputs: \n",
        "        args - dictionary whose keys can include {shape, scale, orientation,\n",
        "                posX, posY} and values can include any integers less than the \n",
        "                corresponding size of that label dimension\n",
        "        verbose - bool to indicate whether the full class label should be written \n",
        "                    as the title of the plot\n",
        "    '''\n",
        "    x,y = get_specific_data(args, cuda=False)\n",
        "    plot_image(x)\n",
        "    if verbose:\n",
        "        string = ''\n",
        "        for i, s in enumerate(['Shape', 'Scale', 'Orientation', 'PosX', 'PosY']):\n",
        "            string += '%s: %d, ' % (s, int(y[0][i+1]))\n",
        "            if i == 2:\n",
        "                string = string[:-2] + '\\n'\n",
        "        plt.title(string[:-2], fontsize=12)\n",
        "        \n",
        "def compare_reconstruction(original, recon):\n",
        "    \"\"\"\n",
        "    compare two images side by side\n",
        "    inputs:\n",
        "        original - array for original image\n",
        "        recon - array for recon image\n",
        "    \"\"\"\n",
        "    fig = plt.figure()\n",
        "    ax0 = fig.add_subplot(121)\n",
        "    plt.imshow(original.cpu().reshape(64,64), cmap='Greys_r',  interpolation='nearest')\n",
        "    plt.axis('off')\n",
        "    plt.title('original')\n",
        "    ax1 = fig.add_subplot(122)\n",
        "    plt.imshow(recon.cpu().reshape(64,64), cmap='Greys_r',  interpolation='nearest')\n",
        "    plt.axis('off')\n",
        "    plt.title('reconstruction')\n",
        "    \n",
        "def compare_to_density(original, recons):\n",
        "    \"\"\"\n",
        "    compare two images side by side\n",
        "    inputs:\n",
        "        original - array for original image\n",
        "        recon - array of multiple recon images\n",
        "    \"\"\"\n",
        "    fig = plt.figure()\n",
        "    ax0 = fig.add_subplot(121)\n",
        "    plt.imshow(original.cpu().reshape(64,64), cmap='Greys_r',  interpolation='nearest')\n",
        "    plt.axis('off')\n",
        "    plt.title('original')\n",
        "    ax1 = fig.add_subplot(122)\n",
        "    plt.imshow(torch.mean(recons.cpu(), 0).reshape(64,64), cmap='Greys_r',  interpolation='nearest')\n",
        "    plt.axis('off')\n",
        "    plt.title('reconstructions')\n",
        "\n",
        "#See random image\n",
        "see_specific_image()\n",
        "#See specific image        \n",
        "see_specific_image({'shape': 2, 'scale': 2, 'orientation': 3, 'posX': 4, 'posY': 5})"
      ],
      "execution_count": 80,
      "outputs": [
        {
          "output_type": "display_data",
          "data": {
            "image/png": "[encoded data removed]",
            "text/plain": [
              "<Figure size 432x288 with 1 Axes>"
            ]
          },
          "metadata": {
            "tags": [],
            "needs_background": "light"
          }
        },
        {
          "output_type": "display_data",
          "data": {
            "image/png": "[encoded data removed]",
            "text/plain": [
              "<Figure size 432x288 with 1 Axes>"
            ]
          },
          "metadata": {
            "tags": [],
            "needs_background": "light"
          }
        }
      ]
    },
    {
      "cell_type": "code",
      "metadata": {
        "id": "OkB6V4LjESxV",
        "colab_type": "code",
        "outputId": "ecaa5b92-8c96-426d-dda4-3b81b287450c",
        "colab": {
          "base_uri": "https://localhost:8080/",
          "height": 34
        }
      },
      "source": [
        "label_dims = vae.label_shape\n",
        "label_dim_offsets = np.cumsum(label_dims)\n",
        "label_dim_offsets"
      ],
      "execution_count": 81,
      "outputs": [
        {
          "output_type": "execute_result",
          "data": {
            "text/plain": [
              "array([  1,   4,  10,  50,  82, 114])"
            ]
          },
          "metadata": {
            "tags": []
          },
          "execution_count": 81
        }
      ]
    },
    {
      "cell_type": "code",
      "metadata": {
        "id": "VXhaIdcBEHnS",
        "colab_type": "code",
        "colab": {}
      },
      "source": [
        "#Explaination: While creating object, takes as input the mu, sigma values generated from an encoder\n",
        "class SCM():\n",
        "    \"\"\"\n",
        "    Structural causal model\n",
        "    \n",
        "    args: \n",
        "      vae: instance of vae\n",
        "      mu: loc of q(z|x) given by the vae encoder\n",
        "      sigma: scale of q(z|x) given by the vae encoder\n",
        "    \n",
        "    \"\"\"\n",
        "    def __init__(self, vae, mu, sigma):\n",
        "        \"\"\"\n",
        "        Constructor\n",
        "        \n",
        "        Intializes :\n",
        "          image dimensions - 4096(64*64), \n",
        "          z dimensions: size of the tensor representing the latent random variable z, \n",
        "          label dimensions: 114 labels y that correspond to an image(one hot encoded)\n",
        "          f(x) = p(x|y,z)\n",
        "          Noise variables in the model N_#\n",
        "        \"\"\"\n",
        "        self.vae = vae\n",
        "        self.image_dim = vae.image_dim\n",
        "        self.z_dim = vae.z_dim\n",
        "        # these are used for f_X\n",
        "        self.label_dims = vae.label_shape\n",
        "        \n",
        "        def f_X(Y, Z, N):\n",
        "            \"\"\"\n",
        "            Generating one hots for the factors\n",
        "            \"\"\" \n",
        "            zs = Z.cuda()\n",
        "            # convert the labels to one hot\n",
        "            ys = [torch.tensor([0])]\n",
        "            ys.append(torch.nn.functional.one_hot(torch.round(Y[0]).to(torch.long), int(self.label_dims[1])))\n",
        "            ys.append(torch.nn.functional.one_hot(torch.round(Y[1]).to(torch.long), int(self.label_dims[2])))\n",
        "            ys.append(torch.nn.functional.one_hot(torch.round(Y[2]).to(torch.long), int(self.label_dims[3])))\n",
        "            ys.append(torch.nn.functional.one_hot(torch.round(Y[3]).to(torch.long), int(self.label_dims[4])))\n",
        "            ys.append(torch.nn.functional.one_hot(torch.round(Y[4]).to(torch.long), int(self.label_dims[5])))\n",
        "            ys = torch.cat(ys).to(torch.float32).reshape(1,-1).cuda()\n",
        "            p = vae.decoder.forward(zs, ys)\n",
        "            return (N < p.cpu()).type(torch.float)\n",
        "        \n",
        "        def f_Y(N):\n",
        "            \"\"\"\n",
        "            Gumbel distribution - to model the distribution of the maximum of a number of samples\n",
        "            m = Gumbel(torch.tensor([1.0]), torch.tensor([2.0])).sample() # sample from Gumbel distribution with loc=1, scale=2\n",
        "            tensor([ 1.0124])\n",
        "            \n",
        "            https://pytorch.org/docs/stable/_modules/torch/distributions/gumbel.html\n",
        "            \"\"\"\n",
        "#             m = torch.distributions.gumbel.Gumbel(torch.zeros(N.size(0)), torch.ones(N.size(0)))\n",
        "            beta = 12\n",
        "            indices = torch.tensor(np.arange(N.size(0))).to(torch.float32)\n",
        "            smax = nn.functional.softmax(beta*N)\n",
        "            argmax_ind = torch.sum(smax*indices)\n",
        "            return argmax_ind\n",
        "        \n",
        "        def f_Z(N):\n",
        "            \"\"\"\n",
        "            Z ~ Normal(mu, sigma) \n",
        "            \"\"\"\n",
        "            return N * sigma + mu\n",
        "        \n",
        "        def model(noise): \n",
        "            \"\"\"\n",
        "            The model corresponds to a generative process\n",
        "            \n",
        "            args: noise variables\n",
        "            return: X(image), Y(labels), Z(latents) \n",
        "            \"\"\"\n",
        "            N_X = pyro.sample( 'N_X', noise['N_X'].to_event(1) )\n",
        "            # denoted using the index in the sequence \n",
        "            # that they are stored in as vae.label_names:\n",
        "            # ['shape', 'scale', 'orientation', 'posX', 'posY']\n",
        "            N_Y_1 = pyro.sample( 'N_Y_1', noise['N_Y_1'].to_event(1) )\n",
        "            N_Y_2 = pyro.sample( 'N_Y_2', noise['N_Y_2'].to_event(1) )\n",
        "            N_Y_3 = pyro.sample( 'N_Y_3', noise['N_Y_3'].to_event(1) )\n",
        "            N_Y_4 = pyro.sample( 'N_Y_4', noise['N_Y_4'].to_event(1) )\n",
        "            N_Y_5 = pyro.sample( 'N_Y_5', noise['N_Y_5'].to_event(1) )\n",
        "            \n",
        "            # Z ~ Normal(Nx_mu, Nx_sigma)              \n",
        "            N_Z = pyro.sample( 'N_Z', noise['N_Z'].to_event(1) )\n",
        "            Z = pyro.sample('Z', dist.Normal( f_Z( N_Z ), 1e-1).to_event(1) )\n",
        "            \n",
        "            # Y ~ Gumbel max of Ny             \n",
        "#             Y_1_mu = f_Y(N_Y_1)\n",
        "#             Y_2_mu = f_Y(N_Y_2)\n",
        "#             Y_3_mu = f_Y(N_Y_3)\n",
        "#             Y_4_mu = f_Y(N_Y_4)\n",
        "#             Y_5_mu = f_Y(N_Y_5)\n",
        "       \n",
        "            Y_1 = pyro.sample('Y_1', dist.Normal( f_Y(N_Y_1), 1e-2) )\n",
        "            Y_2 = pyro.sample('Y_2', dist.Normal( f_Y(N_Y_2), 1e-1) )\n",
        "            Y_3 = pyro.sample('Y_3', dist.Normal( f_Y(N_Y_3), 1e-1) )\n",
        "            Y_4 = pyro.sample('Y_4', dist.Normal( f_Y(N_Y_4), 1e-1) )\n",
        "            Y_5 = pyro.sample('Y_5', dist.Normal( f_Y(N_Y_5), 1e-1) )\n",
        "            \n",
        "#             Y_mu = (Y_1_mu, Y_2_mu, Y_3_mu, Y_4_mu, Y_5_mu)\n",
        "            \n",
        "            # X ~ p(x|y,z) = bernoulli(loc(y,z))             \n",
        "            X = pyro.sample('X', dist.Normal( f_X( (Y_1, Y_2, Y_3,Y_4,Y_5), Z, N_X ), 1e-2).to_event(1))\n",
        "            \n",
        "            # return noise and variables\n",
        "            noise_samples = N_X, (N_Y_1, N_Y_2, N_Y_3, N_Y_4, N_Y_5), N_Z\n",
        "            variable_samples = X, (Y_1, Y_2, Y_3, Y_4, Y_5), Z\n",
        "            return variable_samples, noise_samples\n",
        "        \n",
        "        self.model = model\n",
        "        #Initialize all noise variables in the model         \n",
        "        self.init_noise = {\n",
        "            'N_X'   : dist.Uniform(torch.zeros(vae.image_dim), torch.ones(vae.image_dim)),\n",
        "            'N_Z'   : dist.Normal(torch.zeros(vae.z_dim), torch.ones(vae.z_dim)),\n",
        "            'N_Y_1' : dist.Uniform(torch.zeros(self.label_dims[1]),torch.ones(self.label_dims[1])),\n",
        "            'N_Y_2' : dist.Uniform(torch.zeros(self.label_dims[2]),torch.ones(self.label_dims[2])),\n",
        "            'N_Y_3' : dist.Uniform(torch.zeros(self.label_dims[3]),torch.ones(self.label_dims[3])),\n",
        "            'N_Y_4' : dist.Uniform(torch.zeros(self.label_dims[4]),torch.ones(self.label_dims[4])),\n",
        "            'N_Y_5' : dist.Uniform(torch.zeros(self.label_dims[5]),torch.ones(self.label_dims[5]))            \n",
        "        }\n",
        "        \n",
        "    def update_noise_svi(self, obs_data, intervened_model=None):\n",
        "        \"\"\"\n",
        "        Use svi to find out the mu, sigma of the distributions for the \n",
        "        condition outlined in obs_data\n",
        "        \"\"\"\n",
        "        \n",
        "        def guide(noise):\n",
        "            \"\"\"\n",
        "            The guide serves as an approximation to the posterior p(z|x). \n",
        "            The guide provides a valid joint probability density over all the \n",
        "            latent random variables in the model.\n",
        "            \n",
        "            https://pyro.ai/examples/svi_part_i.html\n",
        "            \"\"\"\n",
        "            # create params with constraints\n",
        "            mu = {\n",
        "                'N_X': pyro.param('N_X_mu', 0.5*torch.ones(self.image_dim),constraint = constraints.interval(0., 1.)),\n",
        "                'N_Z': pyro.param('N_Z_mu', torch.zeros(self.z_dim),constraint = constraints.interval(-3., 3.)),\n",
        "                'N_Y_1': pyro.param('N_Y_1_mu', 0.5*torch.ones(self.label_dims[1]),constraint = constraints.interval(0., 1.)),\n",
        "                'N_Y_2': pyro.param('N_Y_2_mu', 0.5*torch.ones(self.label_dims[2]),constraint = constraints.interval(0., 1.)),\n",
        "                'N_Y_3': pyro.param('N_Y_3_mu', 0.5*torch.ones(self.label_dims[3]),constraint = constraints.interval(0., 1.)),\n",
        "                'N_Y_4': pyro.param('N_Y_4_mu', 0.5*torch.ones(self.label_dims[4]),constraint = constraints.interval(0., 1.)),\n",
        "                'N_Y_5': pyro.param('N_Y_5_mu', 0.5*torch.ones(self.label_dims[5]),constraint = constraints.interval(0., 1.))\n",
        "                }\n",
        "            sigma = {\n",
        "                'N_X': pyro.param('N_X_sigma', 0.1*torch.ones(self.image_dim),constraint = constraints.interval(0.0001, 0.5)),\n",
        "                'N_Z': pyro.param('N_Z_sigma', torch.ones(self.z_dim),constraint = constraints.interval(0.0001, 3.)),\n",
        "                'N_Y_1': pyro.param('N_Y_1_sigma', 0.1*torch.ones(self.label_dims[1]),constraint = constraints.interval(0.0001, 0.5)),\n",
        "                'N_Y_2': pyro.param('N_Y_2_sigma', 0.1*torch.ones(self.label_dims[2]),constraint = constraints.interval(0.0001, 0.5)),\n",
        "                'N_Y_3': pyro.param('N_Y_3_sigma', 0.1*torch.ones(self.label_dims[3]),constraint = constraints.interval(0.0001, 0.5)),\n",
        "                'N_Y_4': pyro.param('N_Y_4_sigma', 0.1*torch.ones(self.label_dims[4]),constraint = constraints.interval(0.0001, 0.5)),\n",
        "                'N_Y_5': pyro.param('N_Y_5_sigma', 0.1*torch.ones(self.label_dims[5]),constraint = constraints.interval(0.0001, 0.5))\n",
        "                }\n",
        "            for noise_term in noise.keys():\n",
        "                pyro.sample(noise_term, dist.Normal(mu[noise_term], sigma[noise_term]).to_event(1))\n",
        "        \n",
        "        # Condition the model\n",
        "        if intervened_model is not None:\n",
        "          obs_model = pyro.condition(intervened_model, obs_data)\n",
        "        else:\n",
        "          obs_model = pyro.condition(self.model, obs_data)\n",
        "          \n",
        "        pyro.clear_param_store()\n",
        "\n",
        "        # Once we’ve specified a guide, we’re ready to proceed to inference. \n",
        "        # Now, this an optimization problem where each iteration of training takes  \n",
        "        # a step that moves the guide closer to the exact posterior \n",
        "        \n",
        "        # https://arxiv.org/pdf/1601.00670.pdf\n",
        "        svi = SVI(\n",
        "            model= obs_model,\n",
        "            guide= guide,\n",
        "            optim= SGD({\"lr\": 1e-5, 'momentum': 0.1}),\n",
        "            loss=Trace_ELBO(retain_graph=True)\n",
        "        )\n",
        "        \n",
        "        num_steps = 1500\n",
        "        samples = defaultdict(list)\n",
        "        for t in range(num_steps):\n",
        "            loss = svi.step(self.init_noise)\n",
        "#             if t % 100 == 0:\n",
        "#                 print(\"step %d: loss of %.2f\" % (t, loss))\n",
        "            for noise in self.init_noise.keys():\n",
        "                mu = '{}_mu'.format(noise)\n",
        "                sigma = '{}_sigma'.format(noise)\n",
        "                samples[mu].append(pyro.param(mu).detach().numpy())\n",
        "                samples[sigma].append(pyro.param(sigma).detach().numpy())\n",
        "        means = {k: torch.tensor(np.array(v).mean(axis=0)) for k, v in samples.items()}\n",
        "        \n",
        "        # update the inferred noise\n",
        "        updated_noise = {\n",
        "            'N_X'  : dist.Normal(means['N_X_mu'], means['N_X_sigma']),\n",
        "            'N_Z'  : dist.Normal(means['N_Z_mu'], means['N_Z_sigma']),\n",
        "            'N_Y_1': dist.Normal(means['N_Y_1_mu'], means['N_Y_1_sigma']),\n",
        "            'N_Y_2': dist.Normal(means['N_Y_2_mu'], means['N_Y_2_sigma']),\n",
        "            'N_Y_3': dist.Normal(means['N_Y_3_mu'], means['N_Y_3_sigma']),\n",
        "            'N_Y_4': dist.Normal(means['N_Y_4_mu'], means['N_Y_4_sigma']),\n",
        "            'N_Y_5': dist.Normal(means['N_Y_5_mu'], means['N_Y_5_sigma']),\n",
        "        }\n",
        "        return updated_noise\n",
        "        \n",
        "    def __call__(self):\n",
        "        return self.model(self.init_noise)"
      ],
      "execution_count": 0,
      "outputs": []
    },
    {
      "cell_type": "markdown",
      "metadata": {
        "id": "lk7vAe8byP5G",
        "colab_type": "text"
      },
      "source": [
        "## Sanity check: 1\n",
        "### Making sure VAE works"
      ]
    },
    {
      "cell_type": "markdown",
      "metadata": {
        "id": "l_5aD1Kll2HP",
        "colab_type": "text"
      },
      "source": [
        "Explaination: Generating single image and reconstructing it using sampling"
      ]
    },
    {
      "cell_type": "code",
      "metadata": {
        "id": "TDI4enwfEPCY",
        "colab_type": "code",
        "outputId": "94db6c40-eb4e-4b1f-9501-6f738e31de7f",
        "colab": {
          "base_uri": "https://localhost:8080/",
          "height": 532
        }
      },
      "source": [
        "# Generate an instance of dSprites image \n",
        "ox, y = get_specific_data(cuda=True)\n",
        "# print(np.shape(ox))\n",
        "# Pass it through VAE to get q(z|x) => N(mu, sigma)\n",
        "mu, sigma = vae.encoder.forward(ox,vae.remap_y(y))\n",
        "# Feed these params to our custom SCM\n",
        "scm = SCM(vae, mu.cpu(), sigma.cpu())\n",
        "string = ''\n",
        "for i, s in enumerate(['Shape', 'Scale', 'Orientation', 'PosX', 'PosY']):\n",
        "    string += '%s: %d, ' % (s, int(y[0][i+1]))\n",
        "    if i == 2:\n",
        "        string = string[:-2] + '\\n'\n",
        "plot_image(ox)\n",
        "plt.title(string[:-2], fontsize=12)\n",
        "plt.show()\n",
        "# Check for reconstruction\n",
        "#Farhan: New code\n",
        "zs = dist.Normal(mu.cpu(), sigma.cpu()).to_event(1).sample()\n",
        "loc = vae.decoder.forward(zs.cuda(), vae.remap_y(y))\n",
        "recon = dist.Bernoulli(loc).to_event(1).sample()\n",
        "recon = recon.reshape(64,64)\n",
        "plt.imshow(recon.cpu(), cmap='Greys_r',  interpolation='nearest')\n",
        "plt.axis('off')\n",
        "plt.title('Reconstructed image')\n",
        "plt.show()"
      ],
      "execution_count": 83,
      "outputs": [
        {
          "output_type": "display_data",
          "data": {
            "image/png": "[encoded data removed]",
            "text/plain": [
              "<Figure size 432x288 with 1 Axes>"
            ]
          },
          "metadata": {
            "tags": [],
            "needs_background": "light"
          }
        },
        {
          "output_type": "display_data",
          "data": {
            "image/png": "[encoded data removed]",
            "text/plain": [
              "<Figure size 432x288 with 1 Axes>"
            ]
          },
          "metadata": {
            "tags": [],
            "needs_background": "light"
          }
        }
      ]
    },
    {
      "cell_type": "markdown",
      "metadata": {
        "id": "B1rkIEyL-357",
        "colab_type": "text"
      },
      "source": [
        "## Sanity check 2\n",
        "\n",
        "### To check if the decoder is able to generate the image if the latents are changed: [Here we are changin the shape label first and then the orientation]\n",
        "#### To achieve this we manually change the labels in the code and run it through the decoder and check for reconstruction"
      ]
    },
    {
      "cell_type": "code",
      "metadata": {
        "id": "1CcO36iqEf_T",
        "colab_type": "code",
        "outputId": "1c9cb654-65aa-4db6-bf31-cca500fe2f44",
        "colab": {
          "base_uri": "https://localhost:8080/",
          "height": 631
        }
      },
      "source": [
        "original, y_original = get_specific_data(cuda=True)\n",
        "print('top original image with no change: ',y_original)\n",
        "mu, sigma = vae.encoder.forward(original,vae.remap_y(y_original))\n",
        "B = 100\n",
        "#Explaination: here zs is being sampled 100 times with new values from distribution\n",
        "zs = torch.cat([dist.Normal(mu.cpu(), sigma.cpu()).sample() for a in range(B)], 0)\n",
        "#Explaination: here ys is being repeatedly 100 times assigned the same value\n",
        "ys = torch.cat([vae.remap_y(y_original) for a in range(B)], 0)\n",
        "# print(\"zs: \", zs)\n",
        "# print(\"ys: \", ys)\n",
        "rs = vae.decoder.forward(zs.cuda(), ys).detach()\n",
        "# print(rs.shape)\n",
        "compare_to_density(original,rs)\n",
        "# compare_reconstruction(original,rs)\n",
        "\n",
        "y_new = torch.tensor(y_original)\n",
        "\n",
        "y_new[0,1] = (y_original[0,1] + 1) % 2\n",
        "print('Middle with change in shape: ', y_new)\n",
        "zs = torch.cat([dist.Normal(mu.cpu(), sigma.cpu()).sample() for a in range(B)], 0)\n",
        "ys = torch.cat([vae.remap_y(y_new) for a in range(B)], 0)\n",
        "rs = vae.decoder.forward(zs.cuda(), ys).detach()\n",
        "compare_to_density(original,rs)\n",
        "\n",
        "\n",
        "y_new[0,3] = (y_original[0,3] + 1) % 2\n",
        "print('bottom with change in Orientation: ', y_new)\n",
        "zs = torch.cat([dist.Normal(mu.cpu(), sigma.cpu()).sample() for a in range(B)], 0)\n",
        "ys = torch.cat([vae.remap_y(y_new) for a in range(B)], 0)\n",
        "rs = vae.decoder.forward(zs.cuda(), ys).detach()\n",
        "compare_to_density(original,rs)\n"
      ],
      "execution_count": 84,
      "outputs": [
        {
          "output_type": "stream",
          "text": [
            "top original image with no change:  tensor([[0., 0., 0., 9., 7., 9.]], device='cuda:0')\n",
            "Middle with change in shape:  tensor([[0., 1., 0., 9., 7., 9.]], device='cuda:0')\n",
            "bottom with change in Orientation:  tensor([[0., 1., 0., 0., 7., 9.]], device='cuda:0')\n"
          ],
          "name": "stdout"
        },
        {
          "output_type": "display_data",
          "data": {
            "image/png": "[encoded data removed]",
            "text/plain": [
              "<Figure size 432x288 with 2 Axes>"
            ]
          },
          "metadata": {
            "tags": [],
            "needs_background": "light"
          }
        },
        {
          "output_type": "display_data",
          "data": {
            "image/png": "[encoded data removed]",
            "text/plain": [
              "<Figure size 432x288 with 2 Axes>"
            ]
          },
          "metadata": {
            "tags": [],
            "needs_background": "light"
          }
        },
        {
          "output_type": "display_data",
          "data": {
            "image/png": "[encoded data removed]",
            "text/plain": [
              "<Figure size 432x288 with 2 Axes>"
            ]
          },
          "metadata": {
            "tags": [],
            "needs_background": "light"
          }
        }
      ]
    },
    {
      "cell_type": "markdown",
      "metadata": {
        "id": "bwyk5S5a7knN",
        "colab_type": "text"
      },
      "source": [
        "## Conditioning the model"
      ]
    },
    {
      "cell_type": "code",
      "metadata": {
        "id": "tQu4lzTMp8QH",
        "colab_type": "code",
        "outputId": "b3726873-6285-4ecd-8de5-d3db2a6be045",
        "colab": {
          "base_uri": "https://localhost:8080/",
          "height": 50
        }
      },
      "source": [
        "# Conditioning on all the six variables \n",
        "pyro.set_rng_seed(1234)\n",
        "cond_data = {}\n",
        "for i in range(1, 6):\n",
        "    cond_data[\"Y_{}\".format(i)] = torch.tensor(y[0,i].cpu()).to(torch.float32)\n",
        "print(cond_data)\n",
        "# cond_data['Y_1'] = torch.tensor(2.)\n",
        "# cond_data['Y_2'] = torch.tensor(2.)\n",
        "# cond_data['Y_3'] = torch.tensor(35.)\n",
        "# cond_data['Y_4'] = torch.tensor(2.)\n",
        "# cond_data['Y_5'] = torch.tensor(22.)\n",
        "print(cond_data)"
      ],
      "execution_count": 85,
      "outputs": [
        {
          "output_type": "stream",
          "text": [
            "{'Y_1': tensor(2.), 'Y_2': tensor(1.), 'Y_3': tensor(32.), 'Y_4': tensor(8.), 'Y_5': tensor(23.)}\n",
            "{'Y_1': tensor(2.), 'Y_2': tensor(1.), 'Y_3': tensor(32.), 'Y_4': tensor(8.), 'Y_5': tensor(23.)}\n"
          ],
          "name": "stdout"
        }
      ]
    },
    {
      "cell_type": "code",
      "metadata": {
        "id": "rtJRtQgJve2A",
        "colab_type": "code",
        "outputId": "ad13b82d-8389-4c51-a2e3-b4f2e78559a5",
        "colab": {
          "base_uri": "https://localhost:8080/",
          "height": 54
        }
      },
      "source": [
        "conditioned_model = pyro.condition(vae.model, data=cond_data)\n",
        "cond_noise = scm.update_noise_svi(cond_data) \n",
        "print(cond_noise)"
      ],
      "execution_count": 86,
      "outputs": [
        {
          "output_type": "stream",
          "text": [
            "{'N_X': Normal(loc: torch.Size([4096]), scale: torch.Size([4096])), 'N_Z': Normal(loc: torch.Size([50]), scale: torch.Size([50])), 'N_Y_1': Normal(loc: torch.Size([3]), scale: torch.Size([3])), 'N_Y_2': Normal(loc: torch.Size([6]), scale: torch.Size([6])), 'N_Y_3': Normal(loc: torch.Size([40]), scale: torch.Size([40])), 'N_Y_4': Normal(loc: torch.Size([32]), scale: torch.Size([32])), 'N_Y_5': Normal(loc: torch.Size([32]), scale: torch.Size([32]))}\n"
          ],
          "name": "stdout"
        }
      ]
    },
    {
      "cell_type": "code",
      "metadata": {
        "id": "0r2HePhs9DnB",
        "colab_type": "code",
        "outputId": "e00d8352-08dc-4c24-d60f-afc1716ee44a",
        "colab": {
          "base_uri": "https://localhost:8080/",
          "height": 262
        }
      },
      "source": [
        "# samples for conditioning \n",
        "rxs = []\n",
        "for i in range(100): \n",
        "  #Explaination: scm returns variable samples and noise samples. Here the 2 () represents them. Each sample returns the X, Y, and Z respectively. So here we are only concerened\n",
        "  # with the X(rx), Y(ry) of the variable sample\n",
        "  (rx,ry,_), _ = scm.model(cond_noise)\n",
        "  rxs.append(rx)\n",
        "print(np.shape(torch.cat(rxs)))\n",
        "compare_to_density(ox, torch.cat(rxs))\n",
        "_ =plt.suptitle(\"SCM Conditioned on Original\", fontsize=18, fontstyle='italic')\n"
      ],
      "execution_count": 87,
      "outputs": [
        {
          "output_type": "stream",
          "text": [
            "torch.Size([100, 4096])\n"
          ],
          "name": "stdout"
        },
        {
          "output_type": "display_data",
          "data": {
            "image/png": "[encoded data removed]",
            "text/plain": [
              "<Figure size 432x288 with 2 Axes>"
            ]
          },
          "metadata": {
            "tags": [],
            "needs_background": "light"
          }
        }
      ]
    },
    {
      "cell_type": "markdown",
      "metadata": {
        "id": "T9q5R5Az7qUO",
        "colab_type": "text"
      },
      "source": [
        "## [DO] Intervention on Shape {2.} -> Heart"
      ]
    },
    {
      "cell_type": "code",
      "metadata": {
        "id": "4NA_mpKv7t4P",
        "colab_type": "code",
        "colab": {}
      },
      "source": [
        "# intervening on Shape \n",
        "do_intervened_model = pyro.do(scm.model, data={\n",
        "  \"Y_1\": torch.tensor(2.)   \n",
        "})\n",
        "\n",
        "# do_noise = scm.update_noise_svi({}, do_intervened_model) \n",
        "# print(do_noise)\n",
        "# noise_data = {}\n",
        "# for term, d in cond_noise.items():\n",
        "#   noise_data[term] = d.loc\n",
        "# intervened_noise = scm.update_noise_svi(noise_data, intervened_model)"
      ],
      "execution_count": 0,
      "outputs": []
    },
    {
      "cell_type": "code",
      "metadata": {
        "id": "rffN8m75cKrd",
        "colab_type": "code",
        "outputId": "f408dfc7-af03-427f-e983-fcc51816448f",
        "colab": {
          "base_uri": "https://localhost:8080/",
          "height": 255
        }
      },
      "source": [
        "(rx1,ry,_), _ = do_intervened_model(cond_noise)\n",
        "print(np.shape(rx1))\n",
        "compare_to_density(ox, rx1)\n",
        "print(ry)\n",
        "print(y)"
      ],
      "execution_count": 89,
      "outputs": [
        {
          "output_type": "stream",
          "text": [
            "torch.Size([1, 4096])\n",
            "(tensor(2.), tensor(1.2908), tensor(33.4395), tensor(8.0096), tensor(23.1597))\n",
            "tensor([[ 0.,  2.,  1., 32.,  8., 23.]], device='cuda:0')\n"
          ],
          "name": "stdout"
        },
        {
          "output_type": "display_data",
          "data": {
            "image/png": "[encoded data removed]",
            "text/plain": [
              "<Figure size 432x288 with 2 Axes>"
            ]
          },
          "metadata": {
            "tags": [],
            "needs_background": "light"
          }
        }
      ]
    },
    {
      "cell_type": "code",
      "metadata": {
        "id": "WwvqXamE4hqb",
        "colab_type": "code",
        "outputId": "fa85aaab-0628-47d1-fc50-b4a8878a4640",
        "colab": {
          "base_uri": "https://localhost:8080/",
          "height": 245
        }
      },
      "source": [
        "# Sampling for [do] intervention on shape\n",
        "rxs = []\n",
        "for i in range(1000):\n",
        "     (cfo1,ny1,nz1), _= do_intervened_model(cond_noise)\n",
        "     rxs.append(cfo1)\n",
        "compare_to_density(ox, torch.cat(rxs))\n",
        "_ =plt.suptitle(\"SCM intervened on shape\", fontsize=18, fontstyle='italic')"
      ],
      "execution_count": 90,
      "outputs": [
        {
          "output_type": "display_data",
          "data": {
            "image/png": "[encoded data removed]",
            "text/plain": [
              "<Figure size 432x288 with 2 Axes>"
            ]
          },
          "metadata": {
            "tags": [],
            "needs_background": "light"
          }
        }
      ]
    },
    {
      "cell_type": "code",
      "metadata": {
        "id": "BMUx6o-V-Ou9",
        "colab_type": "code",
        "colab": {}
      },
      "source": [
        ""
      ],
      "execution_count": 0,
      "outputs": []
    },
    {
      "cell_type": "markdown",
      "metadata": {
        "id": "Ki-4Erso_iwg",
        "colab_type": "text"
      },
      "source": [
        "# [Do] Intervention on Scale {4.}"
      ]
    },
    {
      "cell_type": "code",
      "metadata": {
        "id": "ZM14kvgI_r-J",
        "colab_type": "code",
        "outputId": "89671424-fac6-4c77-e6f1-4e64a53cffe8",
        "colab": {
          "base_uri": "https://localhost:8080/",
          "height": 245
        }
      },
      "source": [
        "do_intervened_model = pyro.do(scm.model, data={\n",
        "  \"Y_2\": torch.tensor(1.),    \n",
        "})\n",
        "\n",
        "rxs = []\n",
        "for i in range(1000):\n",
        "     (cfo1,ny1,nz1), _= do_intervened_model(cond_noise)\n",
        "     rxs.append(cfo1)\n",
        "compare_to_density(ox, torch.cat(rxs))\n",
        "_ =plt.suptitle(\"SCM intervened on Scaling\", fontsize=18, fontstyle='italic')\n"
      ],
      "execution_count": 91,
      "outputs": [
        {
          "output_type": "display_data",
          "data": {
            "image/png": "[encoded data removed]",
            "text/plain": [
              "<Figure size 432x288 with 2 Axes>"
            ]
          },
          "metadata": {
            "tags": [],
            "needs_background": "light"
          }
        }
      ]
    },
    {
      "cell_type": "code",
      "metadata": {
        "id": "I8BHW1QO_xQP",
        "colab_type": "code",
        "outputId": "5071ce1f-9d97-4f43-9b2b-dfac779cae9e",
        "colab": {
          "base_uri": "https://localhost:8080/",
          "height": 245
        }
      },
      "source": [
        "do_intervened_model = pyro.do(scm.model, data={\n",
        "  \"Y_1\":torch.tensor(2.),\n",
        "  \"Y_3\": torch.tensor(32.),    \n",
        "})\n",
        "\n",
        "rxs = []\n",
        "for i in range(1000):\n",
        "     (cfo1,ny1,nz1), _= do_intervened_model(cond_noise)\n",
        "     rxs.append(cfo1)\n",
        "compare_to_density(ox, torch.cat(rxs))\n",
        "_ =plt.suptitle(\"SCM intervened on Shape and Orientation\", fontsize=18, fontstyle='italic')"
      ],
      "execution_count": 92,
      "outputs": [
        {
          "output_type": "display_data",
          "data": {
            "image/png": "[encoded data removed]",
            "text/plain": [
              "<Figure size 432x288 with 2 Axes>"
            ]
          },
          "metadata": {
            "tags": [],
            "needs_background": "light"
          }
        }
      ]
    },
    {
      "cell_type": "code",
      "metadata": {
        "id": "gOYX5ezbAGN9",
        "colab_type": "code",
        "outputId": "38e4d72c-fc8d-4cd5-c29a-b0274907bc0a",
        "colab": {
          "base_uri": "https://localhost:8080/",
          "height": 245
        }
      },
      "source": [
        "do_intervened_model = pyro.do(scm.model, data={\n",
        "  \"y_4\": torch.tensor(1.)   \n",
        "})\n",
        "\n",
        "rxs = []\n",
        "for i in range(1000):\n",
        "     (cfo1,ny1,nz1), _= do_intervened_model(cond_noise)\n",
        "     rxs.append(cfo1)\n",
        "compare_to_density(ox, torch.cat(rxs))\n",
        "_ =plt.suptitle(\"SCM intervened on Shape and Orientation\", fontsize=18, fontstyle='italic')"
      ],
      "execution_count": 93,
      "outputs": [
        {
          "output_type": "display_data",
          "data": {
            "image/png": "[encoded data removed]",
            "text/plain": [
              "<Figure size 432x288 with 2 Axes>"
            ]
          },
          "metadata": {
            "tags": [],
            "needs_background": "light"
          }
        }
      ]
    },
    {
      "cell_type": "markdown",
      "metadata": {
        "id": "ol8WUkIzBx4B",
        "colab_type": "text"
      },
      "source": [
        "## **Counterfactuals**"
      ]
    },
    {
      "cell_type": "markdown",
      "metadata": {
        "id": "4AzdESGhPVkl",
        "colab_type": "text"
      },
      "source": [
        "### Original image"
      ]
    },
    {
      "cell_type": "code",
      "metadata": {
        "id": "JNR-54S6D378",
        "colab_type": "code",
        "colab": {
          "base_uri": "https://localhost:8080/",
          "height": 287
        },
        "outputId": "502e9241-6fc5-4d8c-87a9-9131be7c0bd8"
      },
      "source": [
        "# Generate an instance of dSprites image \n",
        "x_original, y_original = get_specific_data(cuda=True)\n",
        "print('Original Labels:', y_original)\n",
        "plot_image(x_original)\n",
        "plt.title(\"Original Image\")\n",
        "plt.show()"
      ],
      "execution_count": 169,
      "outputs": [
        {
          "output_type": "stream",
          "text": [
            "Original Labels: tensor([[ 0.,  0.,  3., 16.,  0., 30.]], device='cuda:0')\n"
          ],
          "name": "stdout"
        },
        {
          "output_type": "display_data",
          "data": {
            "image/png": "[encoded data removed]",
            "text/plain": [
              "<Figure size 432x288 with 1 Axes>"
            ]
          },
          "metadata": {
            "tags": [],
            "needs_background": "light"
          }
        }
      ]
    },
    {
      "cell_type": "code",
      "metadata": {
        "id": "6CKPpO0pETCl",
        "colab_type": "code",
        "colab": {
          "base_uri": "https://localhost:8080/",
          "height": 34
        },
        "outputId": "df63ee2c-0f0e-480b-d68b-43d7283543c8"
      },
      "source": [
        "#Creating a conditional variable of Noise variables for the abduction step\n",
        "original_cond_data = {}\n",
        "for i in range(1, 6):\n",
        "    original_cond_data[\"Y_{}\".format(i)] = torch.tensor(y_original[0,i].cpu()).to(torch.float32)\n",
        "print(\"original_cond_data:\", original_cond_data)"
      ],
      "execution_count": 170,
      "outputs": [
        {
          "output_type": "stream",
          "text": [
            "original_cond_data: {'Y_1': tensor(0.), 'Y_2': tensor(3.), 'Y_3': tensor(16.), 'Y_4': tensor(0.), 'Y_5': tensor(30.)}\n"
          ],
          "name": "stdout"
        }
      ]
    },
    {
      "cell_type": "markdown",
      "metadata": {
        "id": "JL_mM5DpP5yc",
        "colab_type": "text"
      },
      "source": [
        "### Abduction Step"
      ]
    },
    {
      "cell_type": "code",
      "metadata": {
        "id": "-oEOiDutE5Ay",
        "colab_type": "code",
        "colab": {
          "base_uri": "https://localhost:8080/",
          "height": 54
        },
        "outputId": "93499903-85a8-415a-a4c0-480ebe6f9bfa"
      },
      "source": [
        "# Pass it through VAE to get q(z|x) => N(mu, sigma)\n",
        "mu, sigma = vae.encoder.forward(x_original,vae.remap_y(y_original))\n",
        "# Feed these params to our custom SCM\n",
        "scm = SCM(vae, mu.cpu(), sigma.cpu())\n",
        "#infer Noise variables from original image\n",
        "infer_cond_noise = scm.update_noise_svi(original_cond_data) \n",
        "print(infer_cond_noise)"
      ],
      "execution_count": 171,
      "outputs": [
        {
          "output_type": "stream",
          "text": [
            "{'N_X': Normal(loc: torch.Size([4096]), scale: torch.Size([4096])), 'N_Z': Normal(loc: torch.Size([50]), scale: torch.Size([50])), 'N_Y_1': Normal(loc: torch.Size([3]), scale: torch.Size([3])), 'N_Y_2': Normal(loc: torch.Size([6]), scale: torch.Size([6])), 'N_Y_3': Normal(loc: torch.Size([40]), scale: torch.Size([40])), 'N_Y_4': Normal(loc: torch.Size([32]), scale: torch.Size([32])), 'N_Y_5': Normal(loc: torch.Size([32]), scale: torch.Size([32]))}\n"
          ],
          "name": "stdout"
        }
      ]
    },
    {
      "cell_type": "code",
      "metadata": {
        "id": "qY3M4O0LUDBr",
        "colab_type": "code",
        "colab": {
          "base_uri": "https://localhost:8080/",
          "height": 373
        },
        "outputId": "e8f153f6-2ca9-4910-edff-bf6b657f106b"
      },
      "source": [
        "# Printing the inferred noise variables\n",
        "cf_noise_data = {}\n",
        "for term, d in infer_cond_noise.items():\n",
        "  cf_noise_data[term] = d.loc\n",
        "print(cf_noise_data)"
      ],
      "execution_count": 172,
      "outputs": [
        {
          "output_type": "stream",
          "text": [
            "{'N_X': tensor([0.5000, 0.5000, 0.5000,  ..., 0.5000, 0.5000, 0.5000]), 'N_Z': tensor([ 7.2131e-04, -9.9972e-04, -4.6039e-04,  2.9603e-04,  1.6602e-04,\n",
            "         1.2667e-04,  7.5241e-04, -2.8542e-04, -1.8308e-04, -5.9955e-04,\n",
            "        -2.8085e-05,  8.4931e-04,  7.8631e-05, -1.9801e-04,  5.9767e-04,\n",
            "         6.9774e-04,  2.7409e-04, -9.8322e-04,  7.1390e-05, -4.0704e-04,\n",
            "         1.2645e-04, -3.4702e-04, -4.2166e-04,  1.0220e-03, -1.1298e-04,\n",
            "         6.4532e-04, -5.7281e-06,  8.1240e-04,  1.6634e-04,  4.6125e-04,\n",
            "         1.3454e-03,  4.9661e-05, -2.6115e-04,  4.1574e-04, -7.4073e-04,\n",
            "        -6.9824e-04, -4.1328e-05,  5.8212e-05, -7.0959e-05, -4.0933e-04,\n",
            "        -7.9321e-04,  5.7013e-04,  2.3366e-05,  3.9415e-05,  6.8323e-04,\n",
            "        -3.4395e-05,  5.2065e-04, -9.1319e-04,  1.0772e-04, -3.7173e-04]), 'N_Y_1': tensor([0.8002, 0.3566, 0.2770]), 'N_Y_2': tensor([0.4410, 0.4709, 0.5067, 0.5370, 0.5346, 0.5103]), 'N_Y_3': tensor([0.4927, 0.4913, 0.4990, 0.5063, 0.5054, 0.5029, 0.5111, 0.5190, 0.5418,\n",
            "        0.5292, 0.5356, 0.5569, 0.5633, 0.5703, 0.5684, 0.5986, 0.5780, 0.5635,\n",
            "        0.5625, 0.5517, 0.5300, 0.5277, 0.5146, 0.4922, 0.4932, 0.4898, 0.4758,\n",
            "        0.4760, 0.4504, 0.4656, 0.4516, 0.4386, 0.4340, 0.4435, 0.4389, 0.4243,\n",
            "        0.4357, 0.4124, 0.4292, 0.4251]), 'N_Y_4': tensor([0.9153, 0.8454, 0.6863, 0.7490, 0.6450, 0.5637, 0.5347, 0.4918, 0.4917,\n",
            "        0.4741, 0.4537, 0.4504, 0.4381, 0.4293, 0.4246, 0.4192, 0.4069, 0.3996,\n",
            "        0.3995, 0.3978, 0.3885, 0.3807, 0.3710, 0.3793, 0.3658, 0.3702, 0.3620,\n",
            "        0.3609, 0.3625, 0.3464, 0.3504, 0.3546]), 'N_Y_5': tensor([0.3546, 0.3499, 0.3715, 0.3637, 0.3711, 0.3778, 0.3803, 0.3930, 0.3767,\n",
            "        0.3963, 0.3865, 0.4053, 0.4038, 0.4107, 0.4169, 0.4140, 0.4298, 0.4405,\n",
            "        0.4426, 0.4520, 0.4618, 0.4793, 0.4835, 0.4968, 0.5281, 0.5248, 0.5347,\n",
            "        0.5718, 0.7029, 0.7843, 0.7460, 0.9190])}\n"
          ],
          "name": "stdout"
        }
      ]
    },
    {
      "cell_type": "markdown",
      "metadata": {
        "id": "Aj3YF9GkQEQ1",
        "colab_type": "text"
      },
      "source": [
        "### Action Step"
      ]
    },
    {
      "cell_type": "code",
      "metadata": {
        "id": "g2bzjzjGIkdf",
        "colab_type": "code",
        "colab": {}
      },
      "source": [
        "# intervening on the SCM model\n",
        "cf_intervened_model = pyro.do(scm.model, data={\n",
        "    \"Y_1\": torch.tensor(2.),\n",
        "    # \"Y_2\": torch.tensor(2.),\n",
        "    # \"Y_3\": torch.tensor(2.),\n",
        "    # \"Y_4\": torch.tensor(5.),\n",
        "    # \"Y_5\": torch.tensor(25.),\n",
        "})"
      ],
      "execution_count": 0,
      "outputs": []
    },
    {
      "cell_type": "markdown",
      "metadata": {
        "id": "U9tLhflASq7a",
        "colab_type": "text"
      },
      "source": [
        "### Prediction step"
      ]
    },
    {
      "cell_type": "code",
      "metadata": {
        "id": "LE05fVCoJHqW",
        "colab_type": "code",
        "colab": {
          "base_uri": "https://localhost:8080/",
          "height": 245
        },
        "outputId": "e55eece3-b6b4-43b6-a008-b2f98a2b8745"
      },
      "source": [
        "#Predicting single image\n",
        "(cf_rx,cf_ry,_), _ = cf_intervened_model(infer_cond_noise)\n",
        "compare_to_density(x_original, cf_rx)\n",
        "_ =plt.suptitle(\"Counterfactual Image\", fontsize=18, fontstyle='italic')"
      ],
      "execution_count": 174,
      "outputs": [
        {
          "output_type": "display_data",
          "data": {
            "image/png": "[encoded data removed]",
            "text/plain": [
              "<Figure size 432x288 with 2 Axes>"
            ]
          },
          "metadata": {
            "tags": [],
            "needs_background": "light"
          }
        }
      ]
    },
    {
      "cell_type": "code",
      "metadata": {
        "id": "aXSHxJx7Jmwu",
        "colab_type": "code",
        "colab": {
          "base_uri": "https://localhost:8080/",
          "height": 245
        },
        "outputId": "19576e7d-635e-4149-d7c3-80a52d1a41c1"
      },
      "source": [
        "#Sampling prediction on 1000 images\n",
        "cf_rxs = []\n",
        "for i in range(1000):\n",
        "     (cf_rx,cf_ry,_), _= cf_intervened_model(infer_cond_noise)\n",
        "     cf_rxs.append(cf_rx)\n",
        "compare_to_density(x_original, torch.cat(cf_rxs))\n",
        "_ =plt.suptitle(\"Counterfactual Image\", fontsize=18, fontstyle='italic')"
      ],
      "execution_count": 175,
      "outputs": [
        {
          "output_type": "display_data",
          "data": {
            "image/png": "[encoded data removed]",
            "text/plain": [
              "<Figure size 432x288 with 2 Axes>"
            ]
          },
          "metadata": {
            "tags": [],
            "needs_background": "light"
          }
        }
      ]
    },
    {
      "cell_type": "code",
      "metadata": {
        "id": "utGwCwWkOu9A",
        "colab_type": "code",
        "colab": {}
      },
      "source": [
        ""
      ],
      "execution_count": 0,
      "outputs": []
    }
  ]
}